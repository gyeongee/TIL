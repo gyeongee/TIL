{
  "cells": [
    {
      "cell_type": "markdown",
      "metadata": {
        "id": "view-in-github",
        "colab_type": "text"
      },
      "source": [
        "<a href=\"https://colab.research.google.com/github/gyeongee/TIL/blob/main/TIL_250915.ipynb\" target=\"_parent\"><img src=\"https://colab.research.google.com/assets/colab-badge.svg\" alt=\"Open In Colab\"/></a>"
      ]
    },
    {
      "cell_type": "markdown",
      "metadata": {
        "id": "GC_JyE5ZQ94x"
      },
      "source": [
        "- 텐서 차원 순서 맞추기!!"
      ]
    },
    {
      "cell_type": "code",
      "execution_count": 4,
      "metadata": {
        "colab": {
          "base_uri": "https://localhost:8080/"
        },
        "id": "k_lhR6rH7f_S",
        "outputId": "0b28f547-55ff-4c67-f24c-7792e4339875"
      },
      "outputs": [
        {
          "output_type": "stream",
          "name": "stdout",
          "text": [
            "Drive already mounted at /content/drive; to attempt to forcibly remount, call drive.mount(\"/content/drive\", force_remount=True).\n"
          ]
        }
      ],
      "source": [
        "from google.colab import drive\n",
        "drive.mount('/content/drive')"
      ]
    },
    {
      "cell_type": "code",
      "execution_count": 5,
      "metadata": {
        "colab": {
          "base_uri": "https://localhost:8080/"
        },
        "id": "1ZSCZa1A7ud1",
        "outputId": "5d3e31a5-e3b3-4cc5-dfd2-404c86b7dff4"
      },
      "outputs": [
        {
          "output_type": "stream",
          "name": "stdout",
          "text": [
            "/content/drive/MyDrive/Colab Notebooks/25_해커톤\n"
          ]
        }
      ],
      "source": [
        "%cd '/content/drive/MyDrive/Colab Notebooks/25_해커톤'"
      ]
    },
    {
      "cell_type": "code",
      "execution_count": null,
      "metadata": {
        "colab": {
          "base_uri": "https://localhost:8080/"
        },
        "id": "sZD_dWtQ7v1r",
        "outputId": "c17f8bb7-7ea9-4845-e8c8-c9964c232f89"
      },
      "outputs": [
        {
          "name": "stdout",
          "output_type": "stream",
          "text": [
            "\u001b[?25l   \u001b[90m━━━━━━━━━━━━━━━━━━━━━━━━━━━━━━━━━━━━━━━━\u001b[0m \u001b[32m0.0/84.1 kB\u001b[0m \u001b[31m?\u001b[0m eta \u001b[36m-:--:--\u001b[0m\r\u001b[2K   \u001b[91m━━━━━━━━━━━━━━━━━━━━━━━━━━━━━━━━━━━━━━\u001b[0m\u001b[91m╸\u001b[0m\u001b[90m━\u001b[0m \u001b[32m81.9/84.1 kB\u001b[0m \u001b[31m2.7 MB/s\u001b[0m eta \u001b[36m0:00:01\u001b[0m\r\u001b[2K   \u001b[90m━━━━━━━━━━━━━━━━━━━━━━━━━━━━━━━━━━━━━━━━\u001b[0m \u001b[32m84.1/84.1 kB\u001b[0m \u001b[31m1.6 MB/s\u001b[0m eta \u001b[36m0:00:00\u001b[0m\n",
            "\u001b[?25h"
          ]
        }
      ],
      "source": [
        "!pip install -q transformers datasets evaluate accelerate"
      ]
    },
    {
      "cell_type": "code",
      "execution_count": null,
      "metadata": {
        "colab": {
          "base_uri": "https://localhost:8080/"
        },
        "id": "LLaQp6ElKSjG",
        "outputId": "8625d30d-7157-4482-9147-49417d6f1dc6"
      },
      "outputs": [
        {
          "name": "stdout",
          "output_type": "stream",
          "text": [
            "Collecting av\n",
            "  Downloading av-15.1.0-cp312-cp312-manylinux_2_28_x86_64.whl.metadata (4.6 kB)\n",
            "Downloading av-15.1.0-cp312-cp312-manylinux_2_28_x86_64.whl (39.9 MB)\n",
            "\u001b[2K   \u001b[90m━━━━━━━━━━━━━━━━━━━━━━━━━━━━━━━━━━━━━━━━\u001b[0m \u001b[32m39.9/39.9 MB\u001b[0m \u001b[31m60.0 MB/s\u001b[0m eta \u001b[36m0:00:00\u001b[0m\n",
            "\u001b[?25hInstalling collected packages: av\n",
            "Successfully installed av-15.1.0\n"
          ]
        }
      ],
      "source": [
        "!pip install av"
      ]
    },
    {
      "cell_type": "code",
      "execution_count": null,
      "metadata": {
        "id": "lZ2VGCyDJbxf"
      },
      "outputs": [],
      "source": [
        "#    ━━━━━━━━━━━━━━━━━━━━━━━━━━━━━━━━━━━━━━━━ 503.4/503.4 kB 5.0 MB/s eta 0:00:00\n",
        "#    ━━━━━━━━━━━━━━━━━━━━━━━━━━━━━━━━━━━━━━━━ 42.8/42.8 MB 48.9 MB/s eta 0:00:00\n",
        "# ERROR: pip's dependency resolver does not currently take into account all the packages that are installed. This behaviour is the source of the following dependency conflicts.\n",
        "# cudf-cu12 25.6.0 requires pyarrow<20.0.0a0,>=14.0.0; platform_machine == \"x86_64\", but you have pyarrow 21.0.0 which is incompatible.\n",
        "# pylibcudf-cu12 25.6.0 requires pyarrow<20.0.0a0,>=14.0.0; platform_machine == \"x86_64\", but you have pyarrow 21.0.0 which is incompatible.\n",
        "\n",
        "# !pip install -q --upgrade datasets 버전 오류"
      ]
    },
    {
      "cell_type": "code",
      "execution_count": null,
      "metadata": {
        "colab": {
          "base_uri": "https://localhost:8080/"
        },
        "id": "KAnpOkpg7xGN",
        "outputId": "47a127f5-a451-491d-cd6a-e4827862fc20"
      },
      "outputs": [
        {
          "name": "stdout",
          "output_type": "stream",
          "text": [
            "\u001b[2K   \u001b[90m━━━━━━━━━━━━━━━━━━━━━━━━━━━━━━━━━━━━━━━━\u001b[0m \u001b[32m503.4/503.4 kB\u001b[0m \u001b[31m5.0 MB/s\u001b[0m eta \u001b[36m0:00:00\u001b[0m\n",
            "\u001b[2K   \u001b[90m━━━━━━━━━━━━━━━━━━━━━━━━━━━━━━━━━━━━━━━━\u001b[0m \u001b[32m42.8/42.8 MB\u001b[0m \u001b[31m48.9 MB/s\u001b[0m eta \u001b[36m0:00:00\u001b[0m\n",
            "\u001b[?25h\u001b[31mERROR: pip's dependency resolver does not currently take into account all the packages that are installed. This behaviour is the source of the following dependency conflicts.\n",
            "cudf-cu12 25.6.0 requires pyarrow<20.0.0a0,>=14.0.0; platform_machine == \"x86_64\", but you have pyarrow 21.0.0 which is incompatible.\n",
            "pylibcudf-cu12 25.6.0 requires pyarrow<20.0.0a0,>=14.0.0; platform_machine == \"x86_64\", but you have pyarrow 21.0.0 which is incompatible.\u001b[0m\u001b[31m\n",
            "\u001b[0m"
          ]
        }
      ],
      "source": [
        "# Invalid pattern: '**' can only be an entire path component 오류\n",
        "# NotImplementedError: Loading a dataset cached in a LocalFileSystem is not supported 오류 시\n",
        "# Hugging Face 모델 학습  평가 파이프라인 설치\n",
        "!pip install -q --upgrade datasets\n",
        "\n",
        "# 세션 다시 시작"
      ]
    },
    {
      "cell_type": "code",
      "execution_count": null,
      "metadata": {
        "id": "sOsI_UVt8bnV"
      },
      "outputs": [],
      "source": []
    },
    {
      "cell_type": "markdown",
      "metadata": {
        "id": "7ZPBqFhw8b8u"
      },
      "source": [
        "- 영상 전처리 : 영상길이 10초로 맞추기"
      ]
    },
    {
      "cell_type": "code",
      "execution_count": 6,
      "metadata": {
        "colab": {
          "base_uri": "https://localhost:8080/"
        },
        "id": "_plox0hc8a2K",
        "outputId": "06de11f4-52d5-447c-eb79-c324612ff8e4"
      },
      "outputs": [
        {
          "output_type": "stream",
          "name": "stdout",
          "text": [
            "Moviepy - Building video ./data/clear/trespass/146-5_cam01_trespass03_place01_day_summer.mp4.\n",
            "Moviepy - Writing video ./data/clear/trespass/146-5_cam01_trespass03_place01_day_summer.mp4\n",
            "\n"
          ]
        },
        {
          "output_type": "stream",
          "name": "stderr",
          "text": []
        },
        {
          "output_type": "stream",
          "name": "stdout",
          "text": [
            "Moviepy - Done !\n",
            "Moviepy - video ready ./data/clear/trespass/146-5_cam01_trespass03_place01_day_summer.mp4\n",
            "Moviepy - Building video ./data/clear/trespass/146-5_cam02_trespass03_place01_day_spring.mp4.\n",
            "Moviepy - Writing video ./data/clear/trespass/146-5_cam02_trespass03_place01_day_spring.mp4\n",
            "\n"
          ]
        },
        {
          "output_type": "stream",
          "name": "stderr",
          "text": []
        },
        {
          "output_type": "stream",
          "name": "stdout",
          "text": [
            "Moviepy - Done !\n",
            "Moviepy - video ready ./data/clear/trespass/146-5_cam02_trespass03_place01_day_spring.mp4\n",
            "Moviepy - Building video ./data/clear/trespass/146-5_cam02_trespass03_place01_day_summer.mp4.\n",
            "Moviepy - Writing video ./data/clear/trespass/146-5_cam02_trespass03_place01_day_summer.mp4\n",
            "\n"
          ]
        },
        {
          "output_type": "stream",
          "name": "stderr",
          "text": []
        },
        {
          "output_type": "stream",
          "name": "stdout",
          "text": [
            "Moviepy - Done !\n",
            "Moviepy - video ready ./data/clear/trespass/146-5_cam02_trespass03_place01_day_summer.mp4\n",
            "Moviepy - Building video ./data/clear/trespass/146-5_cam01_trespass03_place01_day_spring.mp4.\n",
            "Moviepy - Writing video ./data/clear/trespass/146-5_cam01_trespass03_place01_day_spring.mp4\n",
            "\n"
          ]
        },
        {
          "output_type": "stream",
          "name": "stderr",
          "text": []
        },
        {
          "output_type": "stream",
          "name": "stdout",
          "text": [
            "Moviepy - Done !\n",
            "Moviepy - video ready ./data/clear/trespass/146-5_cam01_trespass03_place01_day_spring.mp4\n",
            "Moviepy - Building video ./data/clear/trespass/146-3_cam02_trespass03_place01_day_spring.mp4.\n",
            "Moviepy - Writing video ./data/clear/trespass/146-3_cam02_trespass03_place01_day_spring.mp4\n",
            "\n"
          ]
        },
        {
          "output_type": "stream",
          "name": "stderr",
          "text": []
        },
        {
          "output_type": "stream",
          "name": "stdout",
          "text": [
            "Moviepy - Done !\n",
            "Moviepy - video ready ./data/clear/trespass/146-3_cam02_trespass03_place01_day_spring.mp4\n",
            "Moviepy - Building video ./data/clear/trespass/146-3_cam02_trespass03_place01_day_summer.mp4.\n",
            "Moviepy - Writing video ./data/clear/trespass/146-3_cam02_trespass03_place01_day_summer.mp4\n",
            "\n"
          ]
        },
        {
          "output_type": "stream",
          "name": "stderr",
          "text": []
        },
        {
          "output_type": "stream",
          "name": "stdout",
          "text": [
            "Moviepy - Done !\n",
            "Moviepy - video ready ./data/clear/trespass/146-3_cam02_trespass03_place01_day_summer.mp4\n",
            "Moviepy - Building video ./data/clear/trespass/146-3_cam01_trespass03_place01_day_spring.mp4.\n",
            "Moviepy - Writing video ./data/clear/trespass/146-3_cam01_trespass03_place01_day_spring.mp4\n",
            "\n"
          ]
        },
        {
          "output_type": "stream",
          "name": "stderr",
          "text": []
        },
        {
          "output_type": "stream",
          "name": "stdout",
          "text": [
            "Moviepy - Done !\n",
            "Moviepy - video ready ./data/clear/trespass/146-3_cam01_trespass03_place01_day_spring.mp4\n",
            "Moviepy - Building video ./data/clear/trespass/146-3_cam01_trespass03_place01_day_summer.mp4.\n",
            "Moviepy - Writing video ./data/clear/trespass/146-3_cam01_trespass03_place01_day_summer.mp4\n",
            "\n"
          ]
        },
        {
          "output_type": "stream",
          "name": "stderr",
          "text": []
        },
        {
          "output_type": "stream",
          "name": "stdout",
          "text": [
            "Moviepy - Done !\n",
            "Moviepy - video ready ./data/clear/trespass/146-3_cam01_trespass03_place01_day_summer.mp4\n",
            "Moviepy - Building video ./data/clear/trespass/145-1_cam02_trespass01_place01_day_spring.mp4.\n",
            "MoviePy - Writing audio in 145-1_cam02_trespass01_place01_day_springTEMP_MPY_wvf_snd.mp4\n"
          ]
        },
        {
          "output_type": "stream",
          "name": "stderr",
          "text": []
        },
        {
          "output_type": "stream",
          "name": "stdout",
          "text": [
            "MoviePy - Done.\n",
            "Moviepy - Writing video ./data/clear/trespass/145-1_cam02_trespass01_place01_day_spring.mp4\n",
            "\n"
          ]
        },
        {
          "output_type": "stream",
          "name": "stderr",
          "text": []
        },
        {
          "output_type": "stream",
          "name": "stdout",
          "text": [
            "Moviepy - Done !\n",
            "Moviepy - video ready ./data/clear/trespass/145-1_cam02_trespass01_place01_day_spring.mp4\n",
            "Moviepy - Building video ./data/clear/trespass/145-1_cam02_trespass01_place01_day_summer.mp4.\n",
            "MoviePy - Writing audio in 145-1_cam02_trespass01_place01_day_summerTEMP_MPY_wvf_snd.mp4\n"
          ]
        },
        {
          "output_type": "stream",
          "name": "stderr",
          "text": []
        },
        {
          "output_type": "stream",
          "name": "stdout",
          "text": [
            "MoviePy - Done.\n",
            "Moviepy - Writing video ./data/clear/trespass/145-1_cam02_trespass01_place01_day_summer.mp4\n",
            "\n"
          ]
        },
        {
          "output_type": "stream",
          "name": "stderr",
          "text": []
        },
        {
          "output_type": "stream",
          "name": "stdout",
          "text": [
            "Moviepy - Done !\n",
            "Moviepy - video ready ./data/clear/trespass/145-1_cam02_trespass01_place01_day_summer.mp4\n",
            "Moviepy - Building video ./data/clear/trespass/145-1_cam01_trespass01_place01_day_spring.mp4.\n",
            "Moviepy - Writing video ./data/clear/trespass/145-1_cam01_trespass01_place01_day_spring.mp4\n",
            "\n"
          ]
        },
        {
          "output_type": "stream",
          "name": "stderr",
          "text": []
        },
        {
          "output_type": "stream",
          "name": "stdout",
          "text": [
            "Moviepy - Done !\n",
            "Moviepy - video ready ./data/clear/trespass/145-1_cam01_trespass01_place01_day_spring.mp4\n",
            "Moviepy - Building video ./data/clear/trespass/145-1_cam01_trespass01_place01_day_summer.mp4.\n",
            "Moviepy - Writing video ./data/clear/trespass/145-1_cam01_trespass01_place01_day_summer.mp4\n",
            "\n"
          ]
        },
        {
          "output_type": "stream",
          "name": "stderr",
          "text": []
        },
        {
          "output_type": "stream",
          "name": "stdout",
          "text": [
            "Moviepy - Done !\n",
            "Moviepy - video ready ./data/clear/trespass/145-1_cam01_trespass01_place01_day_summer.mp4\n",
            "Moviepy - Building video ./data/clear/trespass/145-3_cam02_trespass01_place01_day_spring.mp4.\n",
            "MoviePy - Writing audio in 145-3_cam02_trespass01_place01_day_springTEMP_MPY_wvf_snd.mp4\n"
          ]
        },
        {
          "output_type": "stream",
          "name": "stderr",
          "text": []
        },
        {
          "output_type": "stream",
          "name": "stdout",
          "text": [
            "MoviePy - Done.\n",
            "Moviepy - Writing video ./data/clear/trespass/145-3_cam02_trespass01_place01_day_spring.mp4\n",
            "\n"
          ]
        },
        {
          "output_type": "stream",
          "name": "stderr",
          "text": []
        },
        {
          "output_type": "stream",
          "name": "stdout",
          "text": [
            "Moviepy - Done !\n",
            "Moviepy - video ready ./data/clear/trespass/145-3_cam02_trespass01_place01_day_spring.mp4\n",
            "Moviepy - Building video ./data/clear/trespass/145-3_cam02_trespass01_place01_day_summer.mp4.\n",
            "MoviePy - Writing audio in 145-3_cam02_trespass01_place01_day_summerTEMP_MPY_wvf_snd.mp4\n"
          ]
        },
        {
          "output_type": "stream",
          "name": "stderr",
          "text": []
        },
        {
          "output_type": "stream",
          "name": "stdout",
          "text": [
            "MoviePy - Done.\n",
            "Moviepy - Writing video ./data/clear/trespass/145-3_cam02_trespass01_place01_day_summer.mp4\n",
            "\n"
          ]
        },
        {
          "output_type": "stream",
          "name": "stderr",
          "text": []
        },
        {
          "output_type": "stream",
          "name": "stdout",
          "text": [
            "Moviepy - Done !\n",
            "Moviepy - video ready ./data/clear/trespass/145-3_cam02_trespass01_place01_day_summer.mp4\n",
            "Moviepy - Building video ./data/clear/trespass/145-3_cam01_trespass01_place01_day_spring.mp4.\n",
            "MoviePy - Writing audio in 145-3_cam01_trespass01_place01_day_springTEMP_MPY_wvf_snd.mp4\n"
          ]
        },
        {
          "output_type": "stream",
          "name": "stderr",
          "text": []
        },
        {
          "output_type": "stream",
          "name": "stdout",
          "text": [
            "MoviePy - Done.\n",
            "Moviepy - Writing video ./data/clear/trespass/145-3_cam01_trespass01_place01_day_spring.mp4\n",
            "\n"
          ]
        },
        {
          "output_type": "stream",
          "name": "stderr",
          "text": []
        },
        {
          "output_type": "stream",
          "name": "stdout",
          "text": [
            "Moviepy - Done !\n",
            "Moviepy - video ready ./data/clear/trespass/145-3_cam01_trespass01_place01_day_spring.mp4\n",
            "Moviepy - Building video ./data/clear/trespass/145-3_cam01_trespass01_place01_day_summer.mp4.\n",
            "MoviePy - Writing audio in 145-3_cam01_trespass01_place01_day_summerTEMP_MPY_wvf_snd.mp4\n"
          ]
        },
        {
          "output_type": "stream",
          "name": "stderr",
          "text": []
        },
        {
          "output_type": "stream",
          "name": "stdout",
          "text": [
            "MoviePy - Done.\n",
            "Moviepy - Writing video ./data/clear/trespass/145-3_cam01_trespass01_place01_day_summer.mp4\n",
            "\n"
          ]
        },
        {
          "output_type": "stream",
          "name": "stderr",
          "text": []
        },
        {
          "output_type": "stream",
          "name": "stdout",
          "text": [
            "Moviepy - Done !\n",
            "Moviepy - video ready ./data/clear/trespass/145-3_cam01_trespass01_place01_day_summer.mp4\n",
            "Moviepy - Building video ./data/clear/trespass/145-2_cam02_trespass01_place01_day_spring.mp4.\n",
            "MoviePy - Writing audio in 145-2_cam02_trespass01_place01_day_springTEMP_MPY_wvf_snd.mp4\n"
          ]
        },
        {
          "output_type": "stream",
          "name": "stderr",
          "text": []
        },
        {
          "output_type": "stream",
          "name": "stdout",
          "text": [
            "MoviePy - Done.\n",
            "Moviepy - Writing video ./data/clear/trespass/145-2_cam02_trespass01_place01_day_spring.mp4\n",
            "\n"
          ]
        },
        {
          "output_type": "stream",
          "name": "stderr",
          "text": []
        },
        {
          "output_type": "stream",
          "name": "stdout",
          "text": [
            "Moviepy - Done !\n",
            "Moviepy - video ready ./data/clear/trespass/145-2_cam02_trespass01_place01_day_spring.mp4\n",
            "Moviepy - Building video ./data/clear/trespass/145-2_cam02_trespass01_place01_day_summer.mp4.\n",
            "MoviePy - Writing audio in 145-2_cam02_trespass01_place01_day_summerTEMP_MPY_wvf_snd.mp4\n"
          ]
        },
        {
          "output_type": "stream",
          "name": "stderr",
          "text": []
        },
        {
          "output_type": "stream",
          "name": "stdout",
          "text": [
            "MoviePy - Done.\n",
            "Moviepy - Writing video ./data/clear/trespass/145-2_cam02_trespass01_place01_day_summer.mp4\n",
            "\n"
          ]
        },
        {
          "output_type": "stream",
          "name": "stderr",
          "text": []
        },
        {
          "output_type": "stream",
          "name": "stdout",
          "text": [
            "Moviepy - Done !\n",
            "Moviepy - video ready ./data/clear/trespass/145-2_cam02_trespass01_place01_day_summer.mp4\n",
            "Moviepy - Building video ./data/clear/trespass/145-2_cam01_trespass01_place01_day_spring.mp4.\n",
            "Moviepy - Writing video ./data/clear/trespass/145-2_cam01_trespass01_place01_day_spring.mp4\n",
            "\n"
          ]
        },
        {
          "output_type": "stream",
          "name": "stderr",
          "text": []
        },
        {
          "output_type": "stream",
          "name": "stdout",
          "text": [
            "Moviepy - Done !\n",
            "Moviepy - video ready ./data/clear/trespass/145-2_cam01_trespass01_place01_day_spring.mp4\n",
            "Moviepy - Building video ./data/clear/trespass/145-2_cam01_trespass01_place01_day_summer.mp4.\n",
            "MoviePy - Writing audio in 145-2_cam01_trespass01_place01_day_summerTEMP_MPY_wvf_snd.mp4\n"
          ]
        },
        {
          "output_type": "stream",
          "name": "stderr",
          "text": []
        },
        {
          "output_type": "stream",
          "name": "stdout",
          "text": [
            "MoviePy - Done.\n",
            "Moviepy - Writing video ./data/clear/trespass/145-2_cam01_trespass01_place01_day_summer.mp4\n",
            "\n"
          ]
        },
        {
          "output_type": "stream",
          "name": "stderr",
          "text": []
        },
        {
          "output_type": "stream",
          "name": "stdout",
          "text": [
            "Moviepy - Done !\n",
            "Moviepy - video ready ./data/clear/trespass/145-2_cam01_trespass01_place01_day_summer.mp4\n",
            "Moviepy - Building video ./data/clear/trespass/145-5_cam01_trespass01_place01_day_summer.mp4.\n",
            "MoviePy - Writing audio in 145-5_cam01_trespass01_place01_day_summerTEMP_MPY_wvf_snd.mp4\n"
          ]
        },
        {
          "output_type": "stream",
          "name": "stderr",
          "text": []
        },
        {
          "output_type": "stream",
          "name": "stdout",
          "text": [
            "MoviePy - Done.\n",
            "Moviepy - Writing video ./data/clear/trespass/145-5_cam01_trespass01_place01_day_summer.mp4\n",
            "\n"
          ]
        },
        {
          "output_type": "stream",
          "name": "stderr",
          "text": []
        },
        {
          "output_type": "stream",
          "name": "stdout",
          "text": [
            "Moviepy - Done !\n",
            "Moviepy - video ready ./data/clear/trespass/145-5_cam01_trespass01_place01_day_summer.mp4\n",
            "Moviepy - Building video ./data/clear/trespass/145-5_cam02_trespass01_place01_day_spring.mp4.\n",
            "MoviePy - Writing audio in 145-5_cam02_trespass01_place01_day_springTEMP_MPY_wvf_snd.mp4\n"
          ]
        },
        {
          "output_type": "stream",
          "name": "stderr",
          "text": []
        },
        {
          "output_type": "stream",
          "name": "stdout",
          "text": [
            "MoviePy - Done.\n",
            "Moviepy - Writing video ./data/clear/trespass/145-5_cam02_trespass01_place01_day_spring.mp4\n",
            "\n"
          ]
        },
        {
          "output_type": "stream",
          "name": "stderr",
          "text": []
        },
        {
          "output_type": "stream",
          "name": "stdout",
          "text": [
            "Moviepy - Done !\n",
            "Moviepy - video ready ./data/clear/trespass/145-5_cam02_trespass01_place01_day_spring.mp4\n",
            "Moviepy - Building video ./data/clear/trespass/145-5_cam02_trespass01_place01_day_summer.mp4.\n",
            "MoviePy - Writing audio in 145-5_cam02_trespass01_place01_day_summerTEMP_MPY_wvf_snd.mp4\n"
          ]
        },
        {
          "output_type": "stream",
          "name": "stderr",
          "text": []
        },
        {
          "output_type": "stream",
          "name": "stdout",
          "text": [
            "MoviePy - Done.\n",
            "Moviepy - Writing video ./data/clear/trespass/145-5_cam02_trespass01_place01_day_summer.mp4\n",
            "\n"
          ]
        },
        {
          "output_type": "stream",
          "name": "stderr",
          "text": []
        },
        {
          "output_type": "stream",
          "name": "stdout",
          "text": [
            "Moviepy - Done !\n",
            "Moviepy - video ready ./data/clear/trespass/145-5_cam02_trespass01_place01_day_summer.mp4\n",
            "Moviepy - Building video ./data/clear/trespass/145-5_cam01_trespass01_place01_day_spring.mp4.\n",
            "MoviePy - Writing audio in 145-5_cam01_trespass01_place01_day_springTEMP_MPY_wvf_snd.mp4\n"
          ]
        },
        {
          "output_type": "stream",
          "name": "stderr",
          "text": []
        },
        {
          "output_type": "stream",
          "name": "stdout",
          "text": [
            "MoviePy - Done.\n",
            "Moviepy - Writing video ./data/clear/trespass/145-5_cam01_trespass01_place01_day_spring.mp4\n",
            "\n"
          ]
        },
        {
          "output_type": "stream",
          "name": "stderr",
          "text": []
        },
        {
          "output_type": "stream",
          "name": "stdout",
          "text": [
            "Moviepy - Done !\n",
            "Moviepy - video ready ./data/clear/trespass/145-5_cam01_trespass01_place01_day_spring.mp4\n",
            "Moviepy - Building video ./data/clear/trespass/146-1_cam02_trespass03_place01_day_spring.mp4.\n",
            "Moviepy - Writing video ./data/clear/trespass/146-1_cam02_trespass03_place01_day_spring.mp4\n",
            "\n"
          ]
        },
        {
          "output_type": "stream",
          "name": "stderr",
          "text": []
        },
        {
          "output_type": "stream",
          "name": "stdout",
          "text": [
            "Moviepy - Done !\n",
            "Moviepy - video ready ./data/clear/trespass/146-1_cam02_trespass03_place01_day_spring.mp4\n",
            "Moviepy - Building video ./data/clear/trespass/146-1_cam02_trespass03_place01_day_summer.mp4.\n",
            "Moviepy - Writing video ./data/clear/trespass/146-1_cam02_trespass03_place01_day_summer.mp4\n",
            "\n"
          ]
        },
        {
          "output_type": "stream",
          "name": "stderr",
          "text": []
        },
        {
          "output_type": "stream",
          "name": "stdout",
          "text": [
            "Moviepy - Done !\n",
            "Moviepy - video ready ./data/clear/trespass/146-1_cam02_trespass03_place01_day_summer.mp4\n",
            "Moviepy - Building video ./data/clear/trespass/146-1_cam01_trespass03_place01_day_spring.mp4.\n",
            "Moviepy - Writing video ./data/clear/trespass/146-1_cam01_trespass03_place01_day_spring.mp4\n",
            "\n"
          ]
        },
        {
          "output_type": "stream",
          "name": "stderr",
          "text": []
        },
        {
          "output_type": "stream",
          "name": "stdout",
          "text": [
            "Moviepy - Done !\n",
            "Moviepy - video ready ./data/clear/trespass/146-1_cam01_trespass03_place01_day_spring.mp4\n",
            "Moviepy - Building video ./data/clear/trespass/146-1_cam01_trespass03_place01_day_summer.mp4.\n",
            "Moviepy - Writing video ./data/clear/trespass/146-1_cam01_trespass03_place01_day_summer.mp4\n",
            "\n"
          ]
        },
        {
          "output_type": "stream",
          "name": "stderr",
          "text": []
        },
        {
          "output_type": "stream",
          "name": "stdout",
          "text": [
            "Moviepy - Done !\n",
            "Moviepy - video ready ./data/clear/trespass/146-1_cam01_trespass03_place01_day_summer.mp4\n",
            "Moviepy - Building video ./data/clear/trespass/146-2_cam02_trespass03_place01_day_spring.mp4.\n",
            "Moviepy - Writing video ./data/clear/trespass/146-2_cam02_trespass03_place01_day_spring.mp4\n",
            "\n"
          ]
        },
        {
          "output_type": "stream",
          "name": "stderr",
          "text": []
        },
        {
          "output_type": "stream",
          "name": "stdout",
          "text": [
            "Moviepy - Done !\n",
            "Moviepy - video ready ./data/clear/trespass/146-2_cam02_trespass03_place01_day_spring.mp4\n",
            "Moviepy - Building video ./data/clear/trespass/146-2_cam02_trespass03_place01_day_summer.mp4.\n",
            "Moviepy - Writing video ./data/clear/trespass/146-2_cam02_trespass03_place01_day_summer.mp4\n",
            "\n"
          ]
        },
        {
          "output_type": "stream",
          "name": "stderr",
          "text": []
        },
        {
          "output_type": "stream",
          "name": "stdout",
          "text": [
            "Moviepy - Done !\n",
            "Moviepy - video ready ./data/clear/trespass/146-2_cam02_trespass03_place01_day_summer.mp4\n",
            "Moviepy - Building video ./data/clear/trespass/146-2_cam01_trespass03_place01_day_spring.mp4.\n",
            "Moviepy - Writing video ./data/clear/trespass/146-2_cam01_trespass03_place01_day_spring.mp4\n",
            "\n"
          ]
        },
        {
          "output_type": "stream",
          "name": "stderr",
          "text": []
        },
        {
          "output_type": "stream",
          "name": "stdout",
          "text": [
            "Moviepy - Done !\n",
            "Moviepy - video ready ./data/clear/trespass/146-2_cam01_trespass03_place01_day_spring.mp4\n",
            "Moviepy - Building video ./data/clear/trespass/146-2_cam01_trespass03_place01_day_summer.mp4.\n",
            "Moviepy - Writing video ./data/clear/trespass/146-2_cam01_trespass03_place01_day_summer.mp4\n",
            "\n"
          ]
        },
        {
          "output_type": "stream",
          "name": "stderr",
          "text": []
        },
        {
          "output_type": "stream",
          "name": "stdout",
          "text": [
            "Moviepy - Done !\n",
            "Moviepy - video ready ./data/clear/trespass/146-2_cam01_trespass03_place01_day_summer.mp4\n",
            "Moviepy - Building video ./data/clear/trespass/145-4_cam02_trespass01_place01_day_spring.mp4.\n",
            "MoviePy - Writing audio in 145-4_cam02_trespass01_place01_day_springTEMP_MPY_wvf_snd.mp4\n"
          ]
        },
        {
          "output_type": "stream",
          "name": "stderr",
          "text": []
        },
        {
          "output_type": "stream",
          "name": "stdout",
          "text": [
            "MoviePy - Done.\n",
            "Moviepy - Writing video ./data/clear/trespass/145-4_cam02_trespass01_place01_day_spring.mp4\n",
            "\n"
          ]
        },
        {
          "output_type": "stream",
          "name": "stderr",
          "text": []
        },
        {
          "output_type": "stream",
          "name": "stdout",
          "text": [
            "Moviepy - Done !\n",
            "Moviepy - video ready ./data/clear/trespass/145-4_cam02_trespass01_place01_day_spring.mp4\n",
            "Moviepy - Building video ./data/clear/trespass/145-4_cam02_trespass01_place01_day_summer.mp4.\n",
            "MoviePy - Writing audio in 145-4_cam02_trespass01_place01_day_summerTEMP_MPY_wvf_snd.mp4\n"
          ]
        },
        {
          "output_type": "stream",
          "name": "stderr",
          "text": []
        },
        {
          "output_type": "stream",
          "name": "stdout",
          "text": [
            "MoviePy - Done.\n",
            "Moviepy - Writing video ./data/clear/trespass/145-4_cam02_trespass01_place01_day_summer.mp4\n",
            "\n"
          ]
        },
        {
          "output_type": "stream",
          "name": "stderr",
          "text": []
        },
        {
          "output_type": "stream",
          "name": "stdout",
          "text": [
            "Moviepy - Done !\n",
            "Moviepy - video ready ./data/clear/trespass/145-4_cam02_trespass01_place01_day_summer.mp4\n",
            "Moviepy - Building video ./data/clear/trespass/145-4_cam01_trespass01_place01_day_spring.mp4.\n",
            "Moviepy - Writing video ./data/clear/trespass/145-4_cam01_trespass01_place01_day_spring.mp4\n",
            "\n"
          ]
        },
        {
          "output_type": "stream",
          "name": "stderr",
          "text": []
        },
        {
          "output_type": "stream",
          "name": "stdout",
          "text": [
            "Moviepy - Done !\n",
            "Moviepy - video ready ./data/clear/trespass/145-4_cam01_trespass01_place01_day_spring.mp4\n",
            "Moviepy - Building video ./data/clear/trespass/145-4_cam01_trespass01_place01_day_summer.mp4.\n",
            "MoviePy - Writing audio in 145-4_cam01_trespass01_place01_day_summerTEMP_MPY_wvf_snd.mp4\n"
          ]
        },
        {
          "output_type": "stream",
          "name": "stderr",
          "text": []
        },
        {
          "output_type": "stream",
          "name": "stdout",
          "text": [
            "MoviePy - Done.\n",
            "Moviepy - Writing video ./data/clear/trespass/145-4_cam01_trespass01_place01_day_summer.mp4\n",
            "\n"
          ]
        },
        {
          "output_type": "stream",
          "name": "stderr",
          "text": []
        },
        {
          "output_type": "stream",
          "name": "stdout",
          "text": [
            "Moviepy - Done !\n",
            "Moviepy - video ready ./data/clear/trespass/145-4_cam01_trespass01_place01_day_summer.mp4\n",
            "Moviepy - Building video ./data/clear/trespass/146-4_cam02_trespass03_place01_day_spring.mp4.\n",
            "Moviepy - Writing video ./data/clear/trespass/146-4_cam02_trespass03_place01_day_spring.mp4\n",
            "\n"
          ]
        },
        {
          "output_type": "stream",
          "name": "stderr",
          "text": []
        },
        {
          "output_type": "stream",
          "name": "stdout",
          "text": [
            "Moviepy - Done !\n",
            "Moviepy - video ready ./data/clear/trespass/146-4_cam02_trespass03_place01_day_spring.mp4\n",
            "Moviepy - Building video ./data/clear/trespass/146-4_cam02_trespass03_place01_day_summer.mp4.\n",
            "Moviepy - Writing video ./data/clear/trespass/146-4_cam02_trespass03_place01_day_summer.mp4\n",
            "\n"
          ]
        },
        {
          "output_type": "stream",
          "name": "stderr",
          "text": []
        },
        {
          "output_type": "stream",
          "name": "stdout",
          "text": [
            "Moviepy - Done !\n",
            "Moviepy - video ready ./data/clear/trespass/146-4_cam02_trespass03_place01_day_summer.mp4\n",
            "Moviepy - Building video ./data/clear/trespass/146-4_cam01_trespass03_place01_day_spring.mp4.\n",
            "Moviepy - Writing video ./data/clear/trespass/146-4_cam01_trespass03_place01_day_spring.mp4\n",
            "\n"
          ]
        },
        {
          "output_type": "stream",
          "name": "stderr",
          "text": []
        },
        {
          "output_type": "stream",
          "name": "stdout",
          "text": [
            "Moviepy - Done !\n",
            "Moviepy - video ready ./data/clear/trespass/146-4_cam01_trespass03_place01_day_spring.mp4\n",
            "Moviepy - Building video ./data/clear/trespass/146-4_cam01_trespass03_place01_day_summer.mp4.\n",
            "Moviepy - Writing video ./data/clear/trespass/146-4_cam01_trespass03_place01_day_summer.mp4\n",
            "\n"
          ]
        },
        {
          "output_type": "stream",
          "name": "stderr",
          "text": []
        },
        {
          "output_type": "stream",
          "name": "stdout",
          "text": [
            "Moviepy - Done !\n",
            "Moviepy - video ready ./data/clear/trespass/146-4_cam01_trespass03_place01_day_summer.mp4\n",
            "Moviepy - Building video ./data/clear/trespass/145-6_cam01_trespass01_place01_day_summer.mp4.\n",
            "MoviePy - Writing audio in 145-6_cam01_trespass01_place01_day_summerTEMP_MPY_wvf_snd.mp4\n"
          ]
        },
        {
          "output_type": "stream",
          "name": "stderr",
          "text": []
        },
        {
          "output_type": "stream",
          "name": "stdout",
          "text": [
            "MoviePy - Done.\n",
            "Moviepy - Writing video ./data/clear/trespass/145-6_cam01_trespass01_place01_day_summer.mp4\n",
            "\n"
          ]
        },
        {
          "output_type": "stream",
          "name": "stderr",
          "text": []
        },
        {
          "output_type": "stream",
          "name": "stdout",
          "text": [
            "Moviepy - Done !\n",
            "Moviepy - video ready ./data/clear/trespass/145-6_cam01_trespass01_place01_day_summer.mp4\n",
            "Moviepy - Building video ./data/clear/trespass/145-6_cam02_trespass01_place01_day_spring.mp4.\n",
            "MoviePy - Writing audio in 145-6_cam02_trespass01_place01_day_springTEMP_MPY_wvf_snd.mp4\n"
          ]
        },
        {
          "output_type": "stream",
          "name": "stderr",
          "text": []
        },
        {
          "output_type": "stream",
          "name": "stdout",
          "text": [
            "MoviePy - Done.\n",
            "Moviepy - Writing video ./data/clear/trespass/145-6_cam02_trespass01_place01_day_spring.mp4\n",
            "\n"
          ]
        },
        {
          "output_type": "stream",
          "name": "stderr",
          "text": []
        },
        {
          "output_type": "stream",
          "name": "stdout",
          "text": [
            "Moviepy - Done !\n",
            "Moviepy - video ready ./data/clear/trespass/145-6_cam02_trespass01_place01_day_spring.mp4\n",
            "Moviepy - Building video ./data/clear/trespass/145-6_cam02_trespass01_place01_day_summer.mp4.\n",
            "MoviePy - Writing audio in 145-6_cam02_trespass01_place01_day_summerTEMP_MPY_wvf_snd.mp4\n"
          ]
        },
        {
          "output_type": "stream",
          "name": "stderr",
          "text": []
        },
        {
          "output_type": "stream",
          "name": "stdout",
          "text": [
            "MoviePy - Done.\n",
            "Moviepy - Writing video ./data/clear/trespass/145-6_cam02_trespass01_place01_day_summer.mp4\n",
            "\n"
          ]
        },
        {
          "output_type": "stream",
          "name": "stderr",
          "text": []
        },
        {
          "output_type": "stream",
          "name": "stdout",
          "text": [
            "Moviepy - Done !\n",
            "Moviepy - video ready ./data/clear/trespass/145-6_cam02_trespass01_place01_day_summer.mp4\n",
            "Moviepy - Building video ./data/clear/trespass/145-6_cam01_trespass01_place01_day_spring.mp4.\n",
            "MoviePy - Writing audio in 145-6_cam01_trespass01_place01_day_springTEMP_MPY_wvf_snd.mp4\n"
          ]
        },
        {
          "output_type": "stream",
          "name": "stderr",
          "text": []
        },
        {
          "output_type": "stream",
          "name": "stdout",
          "text": [
            "MoviePy - Done.\n",
            "Moviepy - Writing video ./data/clear/trespass/145-6_cam01_trespass01_place01_day_spring.mp4\n",
            "\n"
          ]
        },
        {
          "output_type": "stream",
          "name": "stderr",
          "text": []
        },
        {
          "output_type": "stream",
          "name": "stdout",
          "text": [
            "Moviepy - Done !\n",
            "Moviepy - video ready ./data/clear/trespass/145-6_cam01_trespass01_place01_day_spring.mp4\n"
          ]
        }
      ],
      "source": [
        "import os\n",
        "import xml.etree.ElementTree as ET\n",
        "from moviepy.editor import VideoFileClip\n",
        "\n",
        "# 상위 폴더 경로\n",
        "base_dir = \"./data/outsidedoor_01\"\n",
        "output_dir = \"./data/clear/trespass\"\n",
        "os.makedirs(output_dir, exist_ok=True)\n",
        "\n",
        "# 문자열 → 초 단위 변환 함수\n",
        "def time_to_seconds(t):\n",
        "    parts = t.split(\":\")\n",
        "    if len(parts) == 3:  # 시:분:초\n",
        "        h, m, s = parts\n",
        "        return int(h)*3600 + int(m)*60 + float(s)\n",
        "    elif len(parts) == 2:  # 분:초\n",
        "        m, s = parts\n",
        "        return int(m)*60 + float(s)\n",
        "    else:\n",
        "        return float(t)\n",
        "\n",
        "# 하위 폴더 탐색\n",
        "for root_dir, _, files in os.walk(base_dir):\n",
        "    for file in files:\n",
        "        if file.endswith(\".xml\"):\n",
        "            xml_path = os.path.join(root_dir, file)\n",
        "            # 동일 이름의 mp4 찾기\n",
        "            video_name = file.replace(\".xml\", \".mp4\")\n",
        "            video_path = os.path.join(root_dir, video_name)\n",
        "\n",
        "            if not os.path.exists(video_path):\n",
        "                print(f\"비디오 파일 없음: {video_path}\")\n",
        "                continue\n",
        "\n",
        "            # XML 파싱\n",
        "            tree = ET.parse(xml_path)\n",
        "            root_xml = tree.getroot()\n",
        "            event = root_xml.find(\"event\")\n",
        "            if event is None:\n",
        "                print(f\"event 태그 없음: {xml_path}\")\n",
        "                continue\n",
        "\n",
        "            start_time = event.find(\"starttime\").text\n",
        "            start_sec = time_to_seconds(start_time)\n",
        "            end_sec = start_sec + 10  # 10초만 추출\n",
        "\n",
        "            # 출력 경로 설정 (중복 방지)\n",
        "            output_path = os.path.join(output_dir, video_name)\n",
        "\n",
        "            # 영상 자르기\n",
        "            try:\n",
        "                clip = VideoFileClip(video_path).subclip(start_sec, end_sec)\n",
        "                clip.write_videofile(output_path, codec=\"libx264\", audio_codec=\"aac\")\n",
        "                clip.close()\n",
        "            except Exception as e:\n",
        "                print(f\"오류 발생: {video_path} -> {e}\")"
      ]
    },
    {
      "cell_type": "code",
      "execution_count": null,
      "metadata": {
        "id": "SNQFlPoB8v10"
      },
      "outputs": [],
      "source": []
    },
    {
      "cell_type": "code",
      "execution_count": null,
      "metadata": {
        "colab": {
          "base_uri": "https://localhost:8080/"
        },
        "id": "G3Ee6nP49Asq",
        "outputId": "09179e61-b306-44a1-db22-96029e8c4ca6"
      },
      "outputs": [
        {
          "data": {
            "text/plain": [
              "{0: 'swoon',\n",
              " 1: 'wander',\n",
              " 2: 'vandalism',\n",
              " 3: 'burglary',\n",
              " 4: 'assult',\n",
              " 5: 'fight'}"
            ]
          },
          "execution_count": 6,
          "metadata": {},
          "output_type": "execute_result"
        }
      ],
      "source": [
        "label2id = {label: i for i, label in enumerate(labels)}\n",
        "# items(): 딕셔너리에서 키와 값을 가져온다\n",
        "id2label = {i: label for label, i in label2id.items()}\n",
        "\n",
        "id2label"
      ]
    },
    {
      "cell_type": "markdown",
      "metadata": {
        "id": "vwQ2fqLU9H7F"
      },
      "source": [
        "- 데이터 나누기"
      ]
    },
    {
      "cell_type": "code",
      "execution_count": null,
      "metadata": {
        "colab": {
          "base_uri": "https://localhost:8080/"
        },
        "id": "lImiF8YO9GAJ",
        "outputId": "372594a2-5ccc-450a-cb28-16eb95ed9508"
      },
      "outputs": [
        {
          "name": "stdout",
          "output_type": "stream",
          "text": [
            "337 112 113\n"
          ]
        }
      ],
      "source": [
        "import os\n",
        "import glob\n",
        "import torchvision\n",
        "import torch\n",
        "from sklearn.model_selection import train_test_split\n",
        "\n",
        "# 데이터 루트\n",
        "data_dir = \"./data/clear\"\n",
        "\n",
        "# 클래스(라벨) 목록\n",
        "classes = sorted(os.listdir(data_dir))\n",
        "\n",
        "file_paths = []\n",
        "labels = []\n",
        "\n",
        "for label in classes:\n",
        "    class_dir = os.path.join(data_dir, label)\n",
        "    # 확장자가 .mp4인 모든 파일 경로를 리스트로 반환\n",
        "    for f in glob.glob(os.path.join(class_dir, \"*.mp4\")):\n",
        "        file_paths.append(f)\n",
        "        labels.append(label)\n",
        "\n",
        "# train:val:test = 6:2:2\n",
        "X_train, X_temp, y_train, y_temp = train_test_split(\n",
        "    file_paths, labels, test_size=0.4, stratify=labels, random_state=42\n",
        ")\n",
        "X_val, X_test, y_val, y_test = train_test_split(\n",
        "    X_temp, y_temp, test_size=0.5, stratify=y_temp, random_state=42\n",
        ")\n",
        "\n",
        "print(len(X_train), len(X_val), len(X_test))\n"
      ]
    },
    {
      "cell_type": "code",
      "execution_count": null,
      "metadata": {
        "id": "no__z4C3-mtw"
      },
      "outputs": [],
      "source": [
        "import shutil\n",
        "\n",
        "def move_files(file_list, label_list, split_name, base_output_dir=\"./data_split\"):\n",
        "    \"\"\"\n",
        "    주어진 파일 경로(file_list)와 라벨(label_list)을 이용해\n",
        "    train/val/test 폴더 구조로 데이터를 분리하여 복사하는 함수\n",
        "    \"\"\"\n",
        "\n",
        "    for fpath, label in zip(file_list, label_list):\n",
        "        # 출력 폴더 경로: ./data_split/train/{label} 형태로 생성\n",
        "        split_dir = os.path.join(base_output_dir, split_name, label)\n",
        "\n",
        "        # 해당 폴더가 없으면 생성 (exist_ok=True → 이미 있으면 무시)\n",
        "        os.makedirs(split_dir, exist_ok=True)\n",
        "\n",
        "        # 원본 파일 이름 추출 (경로 제외)\n",
        "        fname = os.path.basename(fpath)\n",
        "\n",
        "        # 원본 파일을 해당 split 폴더로 복사\n",
        "        shutil.copy(fpath, os.path.join(split_dir, fname))\n",
        "\n",
        "\n",
        "# 학습(train), 검증(val), 테스트(test) 세트로 나눠서 복사 실행\n",
        "move_files(X_train, y_train, \"train\")\n",
        "move_files(X_val, y_val, \"val\")\n",
        "move_files(X_test, y_test, \"test\")\n"
      ]
    },
    {
      "cell_type": "markdown",
      "metadata": {
        "id": "Awk8WP338xZx"
      },
      "source": [
        "- 라벨 추출"
      ]
    },
    {
      "cell_type": "code",
      "execution_count": null,
      "metadata": {
        "colab": {
          "base_uri": "https://localhost:8080/"
        },
        "id": "T7aaSbZ0818u",
        "outputId": "5ca1f59c-84b0-4451-c88e-30ad872d6db1"
      },
      "outputs": [
        {
          "name": "stdout",
          "output_type": "stream",
          "text": [
            "{'swoon', 'wander', 'vandalism', 'burglary', 'assult', 'fight'}\n"
          ]
        }
      ],
      "source": [
        "import os\n",
        "\n",
        "# 현재 작업 디렉토리 기준으로 ./data/clear 경로를 설정\n",
        "current_path = os.path.join(os.getcwd(), \"./data/clear\")\n",
        "\n",
        "file_labels = []  # 각 파일에서 추출한 라벨(폴더명)을 저장할 리스트\n",
        "\n",
        "# os.walk를 이용해 current_path 하위의 모든 폴더와 파일 탐색\n",
        "for root, _, files in os.walk(current_path):\n",
        "    for f in files:\n",
        "\n",
        "            # 파일 전체 경로 생성 (root = 현재 탐색 중인 폴더 경로)\n",
        "            file_path = os.path.join(root, f)\n",
        "            label = os.path.basename(os.path.dirname(file_path))\n",
        "\n",
        "            # 라벨 리스트에 추가\n",
        "            file_labels.append(label)\n",
        "\n",
        "# 필요시 set()을 쓰면 중복 제거 가능하지만, 여기서는 파일 개수만큼 라벨 유지\n",
        "labels = set(file_labels)\n",
        "\n",
        "# 결과 출력\n",
        "print(labels)"
      ]
    },
    {
      "cell_type": "markdown",
      "metadata": {
        "id": "uB9NwtBsG4QL"
      },
      "source": [
        "- label2id: 클래스 이름을 정수에 매핑\n",
        "- id2label: 정수를 클래스 이름에 매핑"
      ]
    },
    {
      "cell_type": "code",
      "execution_count": null,
      "metadata": {
        "colab": {
          "base_uri": "https://localhost:8080/"
        },
        "id": "rXdASTXxG1u5",
        "outputId": "1348a833-44a1-4d32-e8d7-388549c4b8c8"
      },
      "outputs": [
        {
          "data": {
            "text/plain": [
              "{0: 'swoon',\n",
              " 1: 'wander',\n",
              " 2: 'vandalism',\n",
              " 3: 'burglary',\n",
              " 4: 'assult',\n",
              " 5: 'fight'}"
            ]
          },
          "execution_count": 12,
          "metadata": {},
          "output_type": "execute_result"
        }
      ],
      "source": [
        "label2id = {label: i for i, label in enumerate(labels)}\n",
        "# items(): 딕셔너리에서 키와 값을 가져온다\n",
        "id2label = {i: label for label, i in label2id.items()}\n",
        "\n",
        "id2label"
      ]
    },
    {
      "cell_type": "markdown",
      "metadata": {
        "id": "DyhL7rMu-q9r"
      },
      "source": [
        "- 전처리기"
      ]
    },
    {
      "cell_type": "code",
      "execution_count": null,
      "metadata": {
        "colab": {
          "base_uri": "https://localhost:8080/",
          "height": 290,
          "referenced_widgets": [
            "12166bb4f5894f7ca89af21a5fc7eb56",
            "e6aae54b1ee3416382b2cb534de06dee",
            "0c65d83d8e4849fe8fcfb5e2967f69c0",
            "ecb8bb9315e1486bb3960991390ed5d4",
            "26bd1d44441e4091afa40b538ef1c826",
            "3197fdc2bf5c45859bdd8e846ea4e57f",
            "0fea1a0c5baa4f54bdbb4df67473bb9b",
            "bb506520dd8e480888d96d5dafedd481",
            "9db534c14a6048cea448ef1c9f20cce4",
            "0c2ce7acf128408abb61a1545e23973e",
            "152516d48ff4423eb934972d5ee43bd2",
            "25a547e13b074c7ca5d76b02b61529af",
            "5df77fb1744d4f4ea65385d0288508dc",
            "3d1e3d5ed04d44d7967ba89911147f72",
            "940a1b96371848a891231be910cc4bbe",
            "4d66f7957467417fbf73e92bf72c51f5",
            "96fb4674f8f44185b8ba34a6ad466560",
            "ef38e1deb5b24f96b8f8af79859a17f9",
            "c5fbbc10275b48789f7a8d7cb325a340",
            "bccabf8c44464a398abf42c406d3c3f8",
            "c98b920ed2ed4a4db84f68c59d0351c3",
            "6ffa1aa41f71442ebe5a5fa66cb6d5dc",
            "504dd697cd4246549e9dd3b46ae3ec20",
            "a8214f33c7ad49e09a7a0af399109488",
            "5b8b3ef7ae4d4eceb196c31059fc6272",
            "84f4227c4968400e8641567539d5a5ab",
            "93d9883c09ea4c8297a31568a846a331",
            "a34a2dca71e249caacc36e0d9b37469f",
            "cb6fa3946aa64e19af89b53e5d2e7105",
            "b1bad2cf8af54279ae2792c269fe068a",
            "c5cbcab0581d402ca7140d24112ccebd",
            "e4df3127860f4fcd9e596459afdf7a8a",
            "9094b7228a3f462baa1894e9a85a1da2",
            "83ecdb159b6242ada55339e5d4633612",
            "75b1141e3978405b9dbf8f459c7f8a3d",
            "d4e101bbd9cd41f7be9256b0524e3e68",
            "7a5523a4a5154778a8a0f2fe42057e3c",
            "a5f4b5545d8446bd9d035778f021b363",
            "b023e68967384f6180cfa21d09b0ec92",
            "f89eeae165fc4e7db7fb471b9d706446",
            "5ef36e0ed9134b498c654dc9a32a27c2",
            "e2569e14cbfd4c35a12bcd3334533f06",
            "37936d6cf34e494d8b94c3b546bcd0ae",
            "1d60cd8569c9400b95f4ef3008db4d96"
          ]
        },
        "id": "DOxEJgEG-sQY",
        "outputId": "5f096bae-91d5-4e3c-8cab-13cd0aaed05e"
      },
      "outputs": [
        {
          "name": "stderr",
          "output_type": "stream",
          "text": [
            "/usr/local/lib/python3.12/dist-packages/huggingface_hub/utils/_auth.py:94: UserWarning: \n",
            "The secret `HF_TOKEN` does not exist in your Colab secrets.\n",
            "To authenticate with the Hugging Face Hub, create a token in your settings tab (https://huggingface.co/settings/tokens), set it as secret in your Google Colab and restart your session.\n",
            "You will be able to reuse this secret in all of your notebooks.\n",
            "Please note that authentication is recommended but still optional to access public models or datasets.\n",
            "  warnings.warn(\n"
          ]
        },
        {
          "data": {
            "application/vnd.jupyter.widget-view+json": {
              "model_id": "12166bb4f5894f7ca89af21a5fc7eb56",
              "version_major": 2,
              "version_minor": 0
            },
            "text/plain": [
              "Fetching 1 files:   0%|          | 0/1 [00:00<?, ?it/s]"
            ]
          },
          "metadata": {},
          "output_type": "display_data"
        },
        {
          "data": {
            "application/vnd.jupyter.widget-view+json": {
              "model_id": "25a547e13b074c7ca5d76b02b61529af",
              "version_major": 2,
              "version_minor": 0
            },
            "text/plain": [
              "preprocessor_config.json:   0%|          | 0.00/271 [00:00<?, ?B/s]"
            ]
          },
          "metadata": {},
          "output_type": "display_data"
        },
        {
          "data": {
            "application/vnd.jupyter.widget-view+json": {
              "model_id": "504dd697cd4246549e9dd3b46ae3ec20",
              "version_major": 2,
              "version_minor": 0
            },
            "text/plain": [
              "config.json:   0%|          | 0.00/725 [00:00<?, ?B/s]"
            ]
          },
          "metadata": {},
          "output_type": "display_data"
        },
        {
          "data": {
            "application/vnd.jupyter.widget-view+json": {
              "model_id": "83ecdb159b6242ada55339e5d4633612",
              "version_major": 2,
              "version_minor": 0
            },
            "text/plain": [
              "model.safetensors:   0%|          | 0.00/377M [00:00<?, ?B/s]"
            ]
          },
          "metadata": {},
          "output_type": "display_data"
        },
        {
          "name": "stderr",
          "output_type": "stream",
          "text": [
            "Some weights of VideoMAEForVideoClassification were not initialized from the model checkpoint at MCG-NJU/videomae-base and are newly initialized: ['classifier.bias', 'classifier.weight']\n",
            "You should probably TRAIN this model on a down-stream task to be able to use it for predictions and inference.\n"
          ]
        }
      ],
      "source": [
        "from transformers import VideoMAEImageProcessor, VideoMAEForVideoClassification\n",
        "\n",
        "# 난징대학교에서 만든 비디오 분류 모델\n",
        "# ViT 기반 모델\n",
        "model_id = \"MCG-NJU/videomae-base\"\n",
        "\n",
        "image_processor = VideoMAEImageProcessor.from_pretrained(model_id)\n",
        "model = VideoMAEForVideoClassification.from_pretrained(model_id,\n",
        "                                                       label2id=label2id,\n",
        "                                                       id2label=id2label,\n",
        "                                                       # 모델과 라벨수가 다르더라도 로딩하도록 설정\n",
        "                                                       ignore_mismatched_sizes=True)"
      ]
    },
    {
      "cell_type": "code",
      "execution_count": null,
      "metadata": {
        "id": "D55eSlUO-tC9"
      },
      "outputs": [],
      "source": [
        "# mean = [0.485, 0.456, 0.406]\n",
        "# std  = [0.229, 0.224, 0.225]\n",
        "mean = image_processor.image_mean\n",
        "std = image_processor.image_std\n",
        "\n",
        "# 짧은 변 길이 기준으로 크기 설정 (크기 패딩)\n",
        "if \"shortest_edge\" in image_processor.size:\n",
        "    height = width = image_processor.size[\"shortest_edge\"]\n",
        "# 가로, 세로 크기로 설정\n",
        "else: # \"shortest_edge\"가 없으면 가로(height)와 세로(width) 크기 각각 설정\n",
        "    height = image_processor.size[\"height\"]\n",
        "    width = image_processor.size[\"width\"]\n",
        "resize_to = (height, width)\n",
        "\n",
        "# 영상 프레임 샘플링 관련 설정\n",
        "num_frames_to_sample = model.config.num_frames  # 모델 입력에 필요한 총 프레임 수\n",
        "sample_rate = 4                                  # 샘플링 속도 (몇 프레임마다 1개씩 추출할지)\n",
        "fps = 30                                         # 원본 영상 프레임 속도 (frames per second)\n",
        "\n",
        "# 총 플레이 시간 계산 (초 단위)\n",
        "# clip_duration = (샘플링된 프레임 수 * 샘플링 간격) / 영상 FPS\n",
        "clip_duration = num_frames_to_sample * sample_rate / fps"
      ]
    },
    {
      "cell_type": "code",
      "execution_count": null,
      "metadata": {
        "colab": {
          "base_uri": "https://localhost:8080/"
        },
        "id": "9p9b5Xvf_LFA",
        "outputId": "e6ac428f-0e93-404f-cbd9-accf0508600e"
      },
      "outputs": [
        {
          "name": "stdout",
          "output_type": "stream",
          "text": [
            "\u001b[33mWARNING: Skipping pytorchvideo as it is not installed.\u001b[0m\u001b[33m\n",
            "\u001b[0m  Preparing metadata (setup.py) ... \u001b[?25l\u001b[?25hdone\n",
            "\u001b[2K     \u001b[90m━━━━━━━━━━━━━━━━━━━━━━━━━━━━━━━━━━━━━━━━\u001b[0m \u001b[32m50.2/50.2 kB\u001b[0m \u001b[31m1.4 MB/s\u001b[0m eta \u001b[36m0:00:00\u001b[0m\n",
            "\u001b[?25h  Preparing metadata (setup.py) ... \u001b[?25l\u001b[?25hdone\n",
            "\u001b[2K     \u001b[90m━━━━━━━━━━━━━━━━━━━━━━━━━━━━━━━━━━━━━━━━\u001b[0m \u001b[32m42.2/42.2 kB\u001b[0m \u001b[31m2.8 MB/s\u001b[0m eta \u001b[36m0:00:00\u001b[0m\n",
            "\u001b[?25h  Preparing metadata (setup.py) ... \u001b[?25l\u001b[?25hdone\n",
            "  Building wheel for pytorchvideo (setup.py) ... \u001b[?25l\u001b[?25hdone\n",
            "  Building wheel for fvcore (setup.py) ... \u001b[?25l\u001b[?25hdone\n",
            "  Building wheel for iopath (setup.py) ... \u001b[?25l\u001b[?25hdone\n"
          ]
        }
      ],
      "source": [
        "# 관련 라이브러리 설치\n",
        "!pip uninstall pytorchvideo -y\n",
        "!pip install -q git+https://github.com/facebookresearch/pytorchvideo.git"
      ]
    },
    {
      "cell_type": "markdown",
      "metadata": {
        "id": "NolxZMBKAj50"
      },
      "source": [
        "- 📌 왜 256~320일까?\n",
        "\n",
        "이미지/비디오 연구에서 흔히 쓰는 입력 크기\n",
        "\n",
        "ResNet, EfficientNet 같은 CNN 기반 모델을 학습할 때는 입력 크기를 보통 224×224 정도로 맞춥니다.\n",
        "\n",
        "그래서 원본 이미지를 바로 224로 줄이지 않고, 먼저 짧은 변(short side)을 256~320 사이로 랜덤하게 늘렸다 줄였다 → 그 다음에 RandomCrop(224) 같은 걸로 자릅니다.\n",
        "\n",
        "이렇게 하면 모델이 다양한 스케일의 물체를 보게 되어 데이터 증강 효과가 생겨요."
      ]
    },
    {
      "cell_type": "code",
      "execution_count": null,
      "metadata": {
        "id": "k18dmXAw_SXW"
      },
      "outputs": [],
      "source": [
        "import pytorchvideo.data\n",
        "\n",
        "# 정규화\n",
        "from pytorchvideo.transforms import (\n",
        "    ApplyTransformToKey,      # dict 형태로 되어 있는 데이터에서 특정 key에만 transform을 적용\n",
        "    Normalize,                # 픽셀 값을 정규화 (mean/std 사용)\n",
        "    RandomShortSideScale,     # 영상의 짧은 변(short side)을 랜덤한 크기로 리사이즈\n",
        "    RemoveKey,                # dict에서 특정 key 제거\n",
        "    ShortSideScale,           # 영상의 짧은 변(short side)을 고정된 크기로 리사이즈\n",
        "    UniformTemporalSubsample  # 영상 프레임을 균등하게 샘플링\n",
        ")\n",
        "\n",
        "# 이미지 증식\n",
        "from torchvision.transforms import (\n",
        "    Compose,                  # 여러 transform을 순차적으로 적용\n",
        "    Lambda,                   # 임의의 사용자 함수 적용\n",
        "    RandomCrop,               # 이미지/영상에서 랜덤한 위치를 중심으로 crop\n",
        "    RandomHorizontalFlip,     # 확률적으로 좌우 반전\n",
        "    Resize                    # 이미지/영상 리사이즈\n",
        ")\n",
        "\n",
        "# 이미지 증식\n",
        "train_transform = Compose(\n",
        "    [\n",
        "        # video 키의 값만 변환에 사용\n",
        "        ApplyTransformToKey(\n",
        "            key=\"video\",\n",
        "            transform=Compose(\n",
        "                [\n",
        "                    # 비디오 프레임을 num_frames_to_sample개 선택\n",
        "                    UniformTemporalSubsample(num_frames_to_sample),\n",
        "                    #Lambda(lambda x: (print(\"before normalize:\", x.shape), x)[1]),  # shape 출력\n",
        "                    # 픽셀값을 0-1로 정규화\n",
        "                    Lambda(lambda x: x / 255.0),\n",
        "                    # 채널별 평균과 표준편차로 정규화\n",
        "                    Normalize(mean, std),\n",
        "                    # 비디오 짧은 길이를 기준으로 min_size~max_size 사이로 무작위 크기 변환\n",
        "                    RandomShortSideScale(min_size=256, max_size=320),\n",
        "                    # 스케일된 영상에서 resize_to 크기로 랜덤하게 자름\n",
        "                    RandomCrop(resize_to),\n",
        "                    # 50% 확률로 좌우반전\n",
        "                    RandomHorizontalFlip(p=0.5)\n",
        "                ]\n",
        "            )\n",
        "        )\n",
        "    ]\n",
        ")\n",
        "\n",
        "# -------------------------------\n",
        "# 검증/테스트 데이터용 변환(전처리) 정의\n",
        "# -------------------------------\n",
        "val_transform = Compose(\n",
        "    [\n",
        "        # \"video\" 키에만 아래 변환(transform) 적용\n",
        "        ApplyTransformToKey(\n",
        "            key=\"video\",\n",
        "            transform=Compose(\n",
        "                [\n",
        "                    # 영상에서 num_frames_to_sample 개수만큼 프레임을 균등하게 샘플링\n",
        "                    UniformTemporalSubsample(num_frames_to_sample),\n",
        "                    # 프레임 픽셀 값을 0~1 범위로 정규화\n",
        "                    Lambda(lambda x: x / 255.0),\n",
        "                    # 평균(mean)과 표준편차(std)를 이용해 정규화\n",
        "                    Normalize(mean, std),\n",
        "                    # 지정한 크기(resize_to)로 영상 크기 조정\n",
        "                    Resize(resize_to)\n",
        "                ]\n",
        "            )\n",
        "        )\n",
        "    ]\n",
        ")\n"
      ]
    },
    {
      "cell_type": "code",
      "execution_count": null,
      "metadata": {
        "id": "jb_03vQZBJfj"
      },
      "outputs": [],
      "source": [
        "import torch\n",
        "from torch.utils.data import Dataset\n",
        "import torchvision\n",
        "\n",
        "class VideoDataset(Dataset):\n",
        "    def __init__(self, file_paths, labels, mean, std, transform=None,\n",
        "                 clip_sampler=\"random\", clip_duration=None):\n",
        "        \"\"\"\n",
        "        Args:\n",
        "            file_paths: 영상 파일 경로 리스트\n",
        "            labels: 각 영상 라벨 리스트\n",
        "            mean: [C] 채널별 평균\n",
        "            std: [C] 채널별 표준편차\n",
        "            transform: 추가 변환 적용 가능\n",
        "            clip_sampler: \"random\" 또는 \"uniform\" 프레임 샘플링 방식\n",
        "            clip_duration: 샘플링할 프레임 수\n",
        "        \"\"\"\n",
        "        self.file_paths = file_paths\n",
        "        self.labels = labels\n",
        "        self.mean = mean\n",
        "        self.std = std\n",
        "        self.transform = transform\n",
        "        self.clip_sampler = clip_sampler\n",
        "        self.clip_duration = clip_duration\n",
        "\n",
        "    def __len__(self):\n",
        "        return len(self.file_paths)\n",
        "\n",
        "    def __getitem__(self, idx):\n",
        "        video_path = self.file_paths[idx]\n",
        "        label = self.labels[idx]\n",
        "\n",
        "        # -----------------------\n",
        "        # 영상 불러오기\n",
        "        # video shape = [T, H, W, C]\n",
        "        # -----------------------\n",
        "        video, _, _ = torchvision.io.read_video(video_path, pts_unit='sec')\n",
        "\n",
        "\n",
        "        # -----------------------\n",
        "        # 프레임 샘플링\n",
        "        # -----------------------\n",
        "        if self.clip_duration is not None:\n",
        "            clip_dur = int(self.clip_duration)\n",
        "            num_frames = video.shape[0]\n",
        "            if self.clip_sampler == \"random\":\n",
        "                max_idx = max(1, num_frames - clip_dur)\n",
        "                start_idx = torch.randint(0, max_idx, (1,)).item()\n",
        "                video = video[start_idx:start_idx+clip_dur]\n",
        "            elif self.clip_sampler == \"uniform\":\n",
        "                indices = torch.linspace(0, num_frames - 1, steps=clip_dur).long()\n",
        "                video = video[indices]\n",
        "\n",
        "        # -----------------------\n",
        "        # [T, H, W, C] -> [C, T, H, W], 0~1 스케일\n",
        "        # -----------------------\n",
        "        video = video.permute(3, 0, 1, 2).float() / 255.0  # [C, T, H, W]\n",
        "\n",
        "        # -----------------------\n",
        "        # 프레임별 Normalize\n",
        "        # -----------------------\n",
        "        C, T, H, W = video.shape\n",
        "        video = torch.stack([\n",
        "            torchvision.transforms.functional.normalize(video[:, t, :, :], self.mean, self.std)\n",
        "            for t in range(T)\n",
        "        ], dim=1)  # [C, T, H, W]\n",
        "\n",
        "        # -----------------------\n",
        "        # dict 생성 + transform 적용\n",
        "        # -----------------------\n",
        "        sample = {\"video\": video, \"label\": label}\n",
        "\n",
        "        if self.transform:\n",
        "            sample = self.transform(sample)\n",
        "\n",
        "        return sample"
      ]
    },
    {
      "cell_type": "markdown",
      "metadata": {
        "id": "CoZFydvbBLGK"
      },
      "source": [
        "- Collate Fuction"
      ]
    },
    {
      "cell_type": "code",
      "execution_count": null,
      "metadata": {
        "id": "3QNqegkrBWXd"
      },
      "outputs": [],
      "source": [
        "def collate_fn(examples):\n",
        "    videos = torch.stack([ex[\"video\"].permute(1, 0, 2, 3) for ex in examples])   # [B, C, T, H, W]\n",
        "\n",
        "    # 문자열 라벨 -> 숫자 라벨\n",
        "    labels = torch.tensor([label2id[ex[\"label\"]] for ex in examples])\n",
        "\n",
        "    # 디버깅용 문자열 라벨 출력\n",
        "    str_labels = [ex[\"label\"] for ex in examples]\n",
        "    print(\"batch labels:\", str_labels)\n",
        "\n",
        "    return {\"pixel_values\": videos, \"labels\": labels}"
      ]
    },
    {
      "cell_type": "markdown",
      "metadata": {
        "id": "zTWCDUhbBjNl"
      },
      "source": [
        "- Dataset & DataLoader 생성"
      ]
    },
    {
      "cell_type": "code",
      "execution_count": null,
      "metadata": {
        "id": "xO5JNxQjHbFh"
      },
      "outputs": [],
      "source": [
        "from torch.utils.data import DataLoader"
      ]
    },
    {
      "cell_type": "code",
      "execution_count": null,
      "metadata": {
        "id": "RqupwdjPBk4R"
      },
      "outputs": [],
      "source": [
        "train_dataset = VideoDataset(X_train, y_train, transform=train_transform,mean=mean,std=std,\n",
        "                             clip_sampler=\"random\", clip_duration=clip_duration)\n",
        "val_dataset   = VideoDataset(X_val, y_val, transform=val_transform,\n",
        "                             clip_sampler=\"uniform\", clip_duration=clip_duration,mean=mean,std=std,)\n",
        "test_dataset  = VideoDataset(X_test, y_test, transform=val_transform,\n",
        "                             clip_sampler=\"uniform\", clip_duration=clip_duration,mean=mean,std=std,)\n",
        "\n",
        "train_loader = DataLoader(train_dataset, batch_size=8, shuffle=True, collate_fn=collate_fn)\n",
        "val_loader   = DataLoader(val_dataset, batch_size=8, shuffle=False, collate_fn=collate_fn)\n",
        "test_loader  = DataLoader(test_dataset, batch_size=8, shuffle=False, collate_fn=collate_fn)\n"
      ]
    },
    {
      "cell_type": "markdown",
      "metadata": {
        "id": "oofP5xs-Bnlf"
      },
      "source": [
        "- Trainer 설정"
      ]
    },
    {
      "cell_type": "code",
      "execution_count": null,
      "metadata": {
        "colab": {
          "base_uri": "https://localhost:8080/",
          "height": 485
        },
        "id": "Rk3Hu9oBBnBX",
        "outputId": "9990ddb1-9038-4991-fa91-3eaf3da07e4d"
      },
      "outputs": [
        {
          "name": "stderr",
          "output_type": "stream",
          "text": [
            "/usr/local/lib/python3.12/dist-packages/torchvision/io/_video_deprecation_warning.py:5: UserWarning: The video decoding and encoding capabilities of torchvision are deprecated from version 0.22 and will be removed in version 0.24. We recommend that you migrate to TorchCodec, where we'll consolidate the future decoding/encoding capabilities of PyTorch: https://github.com/pytorch/torchcodec\n",
            "  warnings.warn(\n"
          ]
        },
        {
          "name": "stdout",
          "output_type": "stream",
          "text": [
            "batch labels: ['fight', 'burglary']\n",
            "batch labels: ['fight', 'fight']\n"
          ]
        },
        {
          "data": {
            "text/html": [
              "\n",
              "    <div>\n",
              "      \n",
              "      <progress value='2' max='168' style='width:300px; height:20px; vertical-align: middle;'></progress>\n",
              "      [  2/168 : < :, Epoch 0.01/1]\n",
              "    </div>\n",
              "    <table border=\"1\" class=\"dataframe\">\n",
              "  <thead>\n",
              " <tr style=\"text-align: left;\">\n",
              "      <th>Epoch</th>\n",
              "      <th>Training Loss</th>\n",
              "      <th>Validation Loss</th>\n",
              "    </tr>\n",
              "  </thead>\n",
              "  <tbody>\n",
              "  </tbody>\n",
              "</table><p>"
            ],
            "text/plain": [
              "<IPython.core.display.HTML object>"
            ]
          },
          "metadata": {},
          "output_type": "display_data"
        },
        {
          "ename": "KeyboardInterrupt",
          "evalue": "",
          "output_type": "error",
          "traceback": [
            "\u001b[0;31m---------------------------------------------------------------------------\u001b[0m",
            "\u001b[0;31mKeyboardInterrupt\u001b[0m                         Traceback (most recent call last)",
            "\u001b[0;32m/tmp/ipython-input-3895950636.py\u001b[0m in \u001b[0;36m<cell line: 0>\u001b[0;34m()\u001b[0m\n\u001b[1;32m     35\u001b[0m )\n\u001b[1;32m     36\u001b[0m \u001b[0;34m\u001b[0m\u001b[0m\n\u001b[0;32m---> 37\u001b[0;31m \u001b[0mtrain_results\u001b[0m \u001b[0;34m=\u001b[0m \u001b[0mtrainer\u001b[0m\u001b[0;34m.\u001b[0m\u001b[0mtrain\u001b[0m\u001b[0;34m(\u001b[0m\u001b[0;34m)\u001b[0m\u001b[0;34m\u001b[0m\u001b[0;34m\u001b[0m\u001b[0m\n\u001b[0m",
            "\u001b[0;32m/usr/local/lib/python3.12/dist-packages/transformers/trainer.py\u001b[0m in \u001b[0;36mtrain\u001b[0;34m(self, resume_from_checkpoint, trial, ignore_keys_for_eval, **kwargs)\u001b[0m\n\u001b[1;32m   2326\u001b[0m                 \u001b[0mhf_hub_utils\u001b[0m\u001b[0;34m.\u001b[0m\u001b[0menable_progress_bars\u001b[0m\u001b[0;34m(\u001b[0m\u001b[0;34m)\u001b[0m\u001b[0;34m\u001b[0m\u001b[0;34m\u001b[0m\u001b[0m\n\u001b[1;32m   2327\u001b[0m         \u001b[0;32melse\u001b[0m\u001b[0;34m:\u001b[0m\u001b[0;34m\u001b[0m\u001b[0;34m\u001b[0m\u001b[0m\n\u001b[0;32m-> 2328\u001b[0;31m             return inner_training_loop(\n\u001b[0m\u001b[1;32m   2329\u001b[0m                 \u001b[0margs\u001b[0m\u001b[0;34m=\u001b[0m\u001b[0margs\u001b[0m\u001b[0;34m,\u001b[0m\u001b[0;34m\u001b[0m\u001b[0;34m\u001b[0m\u001b[0m\n\u001b[1;32m   2330\u001b[0m                 \u001b[0mresume_from_checkpoint\u001b[0m\u001b[0;34m=\u001b[0m\u001b[0mresume_from_checkpoint\u001b[0m\u001b[0;34m,\u001b[0m\u001b[0;34m\u001b[0m\u001b[0;34m\u001b[0m\u001b[0m\n",
            "\u001b[0;32m/usr/local/lib/python3.12/dist-packages/transformers/trainer.py\u001b[0m in \u001b[0;36m_inner_training_loop\u001b[0;34m(self, batch_size, args, resume_from_checkpoint, trial, ignore_keys_for_eval)\u001b[0m\n\u001b[1;32m   2621\u001b[0m                 \u001b[0mupdate_step\u001b[0m \u001b[0;34m+=\u001b[0m \u001b[0;36m1\u001b[0m\u001b[0;34m\u001b[0m\u001b[0;34m\u001b[0m\u001b[0m\n\u001b[1;32m   2622\u001b[0m                 \u001b[0mnum_batches\u001b[0m \u001b[0;34m=\u001b[0m \u001b[0margs\u001b[0m\u001b[0;34m.\u001b[0m\u001b[0mgradient_accumulation_steps\u001b[0m \u001b[0;32mif\u001b[0m \u001b[0mupdate_step\u001b[0m \u001b[0;34m!=\u001b[0m \u001b[0;34m(\u001b[0m\u001b[0mtotal_updates\u001b[0m \u001b[0;34m-\u001b[0m \u001b[0;36m1\u001b[0m\u001b[0;34m)\u001b[0m \u001b[0;32melse\u001b[0m \u001b[0mremainder\u001b[0m\u001b[0;34m\u001b[0m\u001b[0;34m\u001b[0m\u001b[0m\n\u001b[0;32m-> 2623\u001b[0;31m                 \u001b[0mbatch_samples\u001b[0m\u001b[0;34m,\u001b[0m \u001b[0mnum_items_in_batch\u001b[0m \u001b[0;34m=\u001b[0m \u001b[0mself\u001b[0m\u001b[0;34m.\u001b[0m\u001b[0mget_batch_samples\u001b[0m\u001b[0;34m(\u001b[0m\u001b[0mepoch_iterator\u001b[0m\u001b[0;34m,\u001b[0m \u001b[0mnum_batches\u001b[0m\u001b[0;34m,\u001b[0m \u001b[0margs\u001b[0m\u001b[0;34m.\u001b[0m\u001b[0mdevice\u001b[0m\u001b[0;34m)\u001b[0m\u001b[0;34m\u001b[0m\u001b[0;34m\u001b[0m\u001b[0m\n\u001b[0m\u001b[1;32m   2624\u001b[0m                 \u001b[0;31m# Store the number of batches for current gradient accumulation\u001b[0m\u001b[0;34m\u001b[0m\u001b[0;34m\u001b[0m\u001b[0m\n\u001b[1;32m   2625\u001b[0m                 \u001b[0;31m# This is used to correctly scale the loss when the last accumulation step has fewer batches\u001b[0m\u001b[0;34m\u001b[0m\u001b[0;34m\u001b[0m\u001b[0m\n",
            "\u001b[0;32m/usr/local/lib/python3.12/dist-packages/transformers/trainer.py\u001b[0m in \u001b[0;36mget_batch_samples\u001b[0;34m(self, epoch_iterator, num_batches, device)\u001b[0m\n\u001b[1;32m   5579\u001b[0m         \u001b[0;32mfor\u001b[0m \u001b[0m_\u001b[0m \u001b[0;32min\u001b[0m \u001b[0mrange\u001b[0m\u001b[0;34m(\u001b[0m\u001b[0mnum_batches\u001b[0m\u001b[0;34m)\u001b[0m\u001b[0;34m:\u001b[0m\u001b[0;34m\u001b[0m\u001b[0;34m\u001b[0m\u001b[0m\n\u001b[1;32m   5580\u001b[0m             \u001b[0;32mtry\u001b[0m\u001b[0;34m:\u001b[0m\u001b[0;34m\u001b[0m\u001b[0;34m\u001b[0m\u001b[0m\n\u001b[0;32m-> 5581\u001b[0;31m                 \u001b[0mbatch_samples\u001b[0m\u001b[0;34m.\u001b[0m\u001b[0mappend\u001b[0m\u001b[0;34m(\u001b[0m\u001b[0mnext\u001b[0m\u001b[0;34m(\u001b[0m\u001b[0mepoch_iterator\u001b[0m\u001b[0;34m)\u001b[0m\u001b[0;34m)\u001b[0m\u001b[0;34m\u001b[0m\u001b[0;34m\u001b[0m\u001b[0m\n\u001b[0m\u001b[1;32m   5582\u001b[0m             \u001b[0;32mexcept\u001b[0m \u001b[0mStopIteration\u001b[0m\u001b[0;34m:\u001b[0m\u001b[0;34m\u001b[0m\u001b[0;34m\u001b[0m\u001b[0m\n\u001b[1;32m   5583\u001b[0m                 \u001b[0;32mbreak\u001b[0m\u001b[0;34m\u001b[0m\u001b[0;34m\u001b[0m\u001b[0m\n",
            "\u001b[0;32m/usr/local/lib/python3.12/dist-packages/accelerate/data_loader.py\u001b[0m in \u001b[0;36m__iter__\u001b[0;34m(self)\u001b[0m\n\u001b[1;32m    577\u001b[0m                     \u001b[0mcurrent_batch\u001b[0m \u001b[0;34m=\u001b[0m \u001b[0msend_to_device\u001b[0m\u001b[0;34m(\u001b[0m\u001b[0mcurrent_batch\u001b[0m\u001b[0;34m,\u001b[0m \u001b[0mself\u001b[0m\u001b[0;34m.\u001b[0m\u001b[0mdevice\u001b[0m\u001b[0;34m,\u001b[0m \u001b[0mnon_blocking\u001b[0m\u001b[0;34m=\u001b[0m\u001b[0mself\u001b[0m\u001b[0;34m.\u001b[0m\u001b[0m_non_blocking\u001b[0m\u001b[0;34m)\u001b[0m\u001b[0;34m\u001b[0m\u001b[0;34m\u001b[0m\u001b[0m\n\u001b[1;32m    578\u001b[0m                 \u001b[0mself\u001b[0m\u001b[0;34m.\u001b[0m\u001b[0m_update_state_dict\u001b[0m\u001b[0;34m(\u001b[0m\u001b[0;34m)\u001b[0m\u001b[0;34m\u001b[0m\u001b[0;34m\u001b[0m\u001b[0m\n\u001b[0;32m--> 579\u001b[0;31m                 \u001b[0mnext_batch\u001b[0m \u001b[0;34m=\u001b[0m \u001b[0mnext\u001b[0m\u001b[0;34m(\u001b[0m\u001b[0mdataloader_iter\u001b[0m\u001b[0;34m)\u001b[0m\u001b[0;34m\u001b[0m\u001b[0;34m\u001b[0m\u001b[0m\n\u001b[0m\u001b[1;32m    580\u001b[0m                 \u001b[0;32mif\u001b[0m \u001b[0mbatch_index\u001b[0m \u001b[0;34m>=\u001b[0m \u001b[0mself\u001b[0m\u001b[0;34m.\u001b[0m\u001b[0mskip_batches\u001b[0m\u001b[0;34m:\u001b[0m\u001b[0;34m\u001b[0m\u001b[0;34m\u001b[0m\u001b[0m\n\u001b[1;32m    581\u001b[0m                     \u001b[0;32myield\u001b[0m \u001b[0mcurrent_batch\u001b[0m\u001b[0;34m\u001b[0m\u001b[0;34m\u001b[0m\u001b[0m\n",
            "\u001b[0;32m/usr/local/lib/python3.12/dist-packages/torch/utils/data/dataloader.py\u001b[0m in \u001b[0;36m__next__\u001b[0;34m(self)\u001b[0m\n\u001b[1;32m    732\u001b[0m                 \u001b[0;31m# TODO(https://github.com/pytorch/pytorch/issues/76750)\u001b[0m\u001b[0;34m\u001b[0m\u001b[0;34m\u001b[0m\u001b[0m\n\u001b[1;32m    733\u001b[0m                 \u001b[0mself\u001b[0m\u001b[0;34m.\u001b[0m\u001b[0m_reset\u001b[0m\u001b[0;34m(\u001b[0m\u001b[0;34m)\u001b[0m  \u001b[0;31m# type: ignore[call-arg]\u001b[0m\u001b[0;34m\u001b[0m\u001b[0;34m\u001b[0m\u001b[0m\n\u001b[0;32m--> 734\u001b[0;31m             \u001b[0mdata\u001b[0m \u001b[0;34m=\u001b[0m \u001b[0mself\u001b[0m\u001b[0;34m.\u001b[0m\u001b[0m_next_data\u001b[0m\u001b[0;34m(\u001b[0m\u001b[0;34m)\u001b[0m\u001b[0;34m\u001b[0m\u001b[0;34m\u001b[0m\u001b[0m\n\u001b[0m\u001b[1;32m    735\u001b[0m             \u001b[0mself\u001b[0m\u001b[0;34m.\u001b[0m\u001b[0m_num_yielded\u001b[0m \u001b[0;34m+=\u001b[0m \u001b[0;36m1\u001b[0m\u001b[0;34m\u001b[0m\u001b[0;34m\u001b[0m\u001b[0m\n\u001b[1;32m    736\u001b[0m             if (\n",
            "\u001b[0;32m/usr/local/lib/python3.12/dist-packages/torch/utils/data/dataloader.py\u001b[0m in \u001b[0;36m_next_data\u001b[0;34m(self)\u001b[0m\n\u001b[1;32m    788\u001b[0m     \u001b[0;32mdef\u001b[0m \u001b[0m_next_data\u001b[0m\u001b[0;34m(\u001b[0m\u001b[0mself\u001b[0m\u001b[0;34m)\u001b[0m\u001b[0;34m:\u001b[0m\u001b[0;34m\u001b[0m\u001b[0;34m\u001b[0m\u001b[0m\n\u001b[1;32m    789\u001b[0m         \u001b[0mindex\u001b[0m \u001b[0;34m=\u001b[0m \u001b[0mself\u001b[0m\u001b[0;34m.\u001b[0m\u001b[0m_next_index\u001b[0m\u001b[0;34m(\u001b[0m\u001b[0;34m)\u001b[0m  \u001b[0;31m# may raise StopIteration\u001b[0m\u001b[0;34m\u001b[0m\u001b[0;34m\u001b[0m\u001b[0m\n\u001b[0;32m--> 790\u001b[0;31m         \u001b[0mdata\u001b[0m \u001b[0;34m=\u001b[0m \u001b[0mself\u001b[0m\u001b[0;34m.\u001b[0m\u001b[0m_dataset_fetcher\u001b[0m\u001b[0;34m.\u001b[0m\u001b[0mfetch\u001b[0m\u001b[0;34m(\u001b[0m\u001b[0mindex\u001b[0m\u001b[0;34m)\u001b[0m  \u001b[0;31m# may raise StopIteration\u001b[0m\u001b[0;34m\u001b[0m\u001b[0;34m\u001b[0m\u001b[0m\n\u001b[0m\u001b[1;32m    791\u001b[0m         \u001b[0;32mif\u001b[0m \u001b[0mself\u001b[0m\u001b[0;34m.\u001b[0m\u001b[0m_pin_memory\u001b[0m\u001b[0;34m:\u001b[0m\u001b[0;34m\u001b[0m\u001b[0;34m\u001b[0m\u001b[0m\n\u001b[1;32m    792\u001b[0m             \u001b[0mdata\u001b[0m \u001b[0;34m=\u001b[0m \u001b[0m_utils\u001b[0m\u001b[0;34m.\u001b[0m\u001b[0mpin_memory\u001b[0m\u001b[0;34m.\u001b[0m\u001b[0mpin_memory\u001b[0m\u001b[0;34m(\u001b[0m\u001b[0mdata\u001b[0m\u001b[0;34m,\u001b[0m \u001b[0mself\u001b[0m\u001b[0;34m.\u001b[0m\u001b[0m_pin_memory_device\u001b[0m\u001b[0;34m)\u001b[0m\u001b[0;34m\u001b[0m\u001b[0;34m\u001b[0m\u001b[0m\n",
            "\u001b[0;32m/usr/local/lib/python3.12/dist-packages/torch/utils/data/_utils/fetch.py\u001b[0m in \u001b[0;36mfetch\u001b[0;34m(self, possibly_batched_index)\u001b[0m\n\u001b[1;32m     50\u001b[0m                 \u001b[0mdata\u001b[0m \u001b[0;34m=\u001b[0m \u001b[0mself\u001b[0m\u001b[0;34m.\u001b[0m\u001b[0mdataset\u001b[0m\u001b[0;34m.\u001b[0m\u001b[0m__getitems__\u001b[0m\u001b[0;34m(\u001b[0m\u001b[0mpossibly_batched_index\u001b[0m\u001b[0;34m)\u001b[0m\u001b[0;34m\u001b[0m\u001b[0;34m\u001b[0m\u001b[0m\n\u001b[1;32m     51\u001b[0m             \u001b[0;32melse\u001b[0m\u001b[0;34m:\u001b[0m\u001b[0;34m\u001b[0m\u001b[0;34m\u001b[0m\u001b[0m\n\u001b[0;32m---> 52\u001b[0;31m                 \u001b[0mdata\u001b[0m \u001b[0;34m=\u001b[0m \u001b[0;34m[\u001b[0m\u001b[0mself\u001b[0m\u001b[0;34m.\u001b[0m\u001b[0mdataset\u001b[0m\u001b[0;34m[\u001b[0m\u001b[0midx\u001b[0m\u001b[0;34m]\u001b[0m \u001b[0;32mfor\u001b[0m \u001b[0midx\u001b[0m \u001b[0;32min\u001b[0m \u001b[0mpossibly_batched_index\u001b[0m\u001b[0;34m]\u001b[0m\u001b[0;34m\u001b[0m\u001b[0;34m\u001b[0m\u001b[0m\n\u001b[0m\u001b[1;32m     53\u001b[0m         \u001b[0;32melse\u001b[0m\u001b[0;34m:\u001b[0m\u001b[0;34m\u001b[0m\u001b[0;34m\u001b[0m\u001b[0m\n\u001b[1;32m     54\u001b[0m             \u001b[0mdata\u001b[0m \u001b[0;34m=\u001b[0m \u001b[0mself\u001b[0m\u001b[0;34m.\u001b[0m\u001b[0mdataset\u001b[0m\u001b[0;34m[\u001b[0m\u001b[0mpossibly_batched_index\u001b[0m\u001b[0;34m]\u001b[0m\u001b[0;34m\u001b[0m\u001b[0;34m\u001b[0m\u001b[0m\n",
            "\u001b[0;32m/tmp/ipython-input-4126352980.py\u001b[0m in \u001b[0;36m__getitem__\u001b[0;34m(self, idx)\u001b[0m\n\u001b[1;32m     35\u001b[0m         \u001b[0;31m# video shape = [T, H, W, C]\u001b[0m\u001b[0;34m\u001b[0m\u001b[0;34m\u001b[0m\u001b[0m\n\u001b[1;32m     36\u001b[0m         \u001b[0;31m# -----------------------\u001b[0m\u001b[0;34m\u001b[0m\u001b[0;34m\u001b[0m\u001b[0m\n\u001b[0;32m---> 37\u001b[0;31m         \u001b[0mvideo\u001b[0m\u001b[0;34m,\u001b[0m \u001b[0m_\u001b[0m\u001b[0;34m,\u001b[0m \u001b[0m_\u001b[0m \u001b[0;34m=\u001b[0m \u001b[0mtorchvision\u001b[0m\u001b[0;34m.\u001b[0m\u001b[0mio\u001b[0m\u001b[0;34m.\u001b[0m\u001b[0mread_video\u001b[0m\u001b[0;34m(\u001b[0m\u001b[0mvideo_path\u001b[0m\u001b[0;34m,\u001b[0m \u001b[0mpts_unit\u001b[0m\u001b[0;34m=\u001b[0m\u001b[0;34m'sec'\u001b[0m\u001b[0;34m)\u001b[0m\u001b[0;34m\u001b[0m\u001b[0;34m\u001b[0m\u001b[0m\n\u001b[0m\u001b[1;32m     38\u001b[0m \u001b[0;34m\u001b[0m\u001b[0m\n\u001b[1;32m     39\u001b[0m         \u001b[0;31m# # -----------------------\u001b[0m\u001b[0;34m\u001b[0m\u001b[0;34m\u001b[0m\u001b[0m\n",
            "\u001b[0;32m/usr/local/lib/python3.12/dist-packages/torchvision/io/video.py\u001b[0m in \u001b[0;36mread_video\u001b[0;34m(filename, start_pts, end_pts, pts_unit, output_format)\u001b[0m\n\u001b[1;32m    367\u001b[0m             \u001b[0;32mpass\u001b[0m\u001b[0;34m\u001b[0m\u001b[0;34m\u001b[0m\u001b[0m\n\u001b[1;32m    368\u001b[0m \u001b[0;34m\u001b[0m\u001b[0m\n\u001b[0;32m--> 369\u001b[0;31m         \u001b[0mvframes_list\u001b[0m \u001b[0;34m=\u001b[0m \u001b[0;34m[\u001b[0m\u001b[0mframe\u001b[0m\u001b[0;34m.\u001b[0m\u001b[0mto_rgb\u001b[0m\u001b[0;34m(\u001b[0m\u001b[0;34m)\u001b[0m\u001b[0;34m.\u001b[0m\u001b[0mto_ndarray\u001b[0m\u001b[0;34m(\u001b[0m\u001b[0;34m)\u001b[0m \u001b[0;32mfor\u001b[0m \u001b[0mframe\u001b[0m \u001b[0;32min\u001b[0m \u001b[0mvideo_frames\u001b[0m\u001b[0;34m]\u001b[0m\u001b[0;34m\u001b[0m\u001b[0;34m\u001b[0m\u001b[0m\n\u001b[0m\u001b[1;32m    370\u001b[0m         \u001b[0maframes_list\u001b[0m \u001b[0;34m=\u001b[0m \u001b[0;34m[\u001b[0m\u001b[0mframe\u001b[0m\u001b[0;34m.\u001b[0m\u001b[0mto_ndarray\u001b[0m\u001b[0;34m(\u001b[0m\u001b[0;34m)\u001b[0m \u001b[0;32mfor\u001b[0m \u001b[0mframe\u001b[0m \u001b[0;32min\u001b[0m \u001b[0maudio_frames\u001b[0m\u001b[0;34m]\u001b[0m\u001b[0;34m\u001b[0m\u001b[0;34m\u001b[0m\u001b[0m\n\u001b[1;32m    371\u001b[0m \u001b[0;34m\u001b[0m\u001b[0m\n",
            "\u001b[0;31mKeyboardInterrupt\u001b[0m: "
          ]
        }
      ],
      "source": [
        "from transformers import TrainingArguments, Trainer\n",
        "import numpy as np\n",
        "\n",
        "def compute_metrics(pred):\n",
        "    labels = pred.label_ids\n",
        "    preds = np.argmax(pred.predictions, axis=1)\n",
        "    accuracy = (preds == labels).mean()\n",
        "    return {\"accuracy\": accuracy}\n",
        "\n",
        "train_args = TrainingArguments(\n",
        "    output_dir=\"./results/my_awesome_video_cls_model\",\n",
        "    remove_unused_columns=False,\n",
        "    eval_strategy=\"epoch\",\n",
        "    save_strategy=\"epoch\",\n",
        "    learning_rate=5e-5,\n",
        "    per_device_train_batch_size=2,\n",
        "    per_device_eval_batch_size=2,\n",
        "    warmup_ratio=0.1,\n",
        "    logging_steps=10,\n",
        "    load_best_model_at_end=True,\n",
        "    metric_for_best_model=\"accuracy\",\n",
        "    max_steps=(len(train_dataset)//2)*1,\n",
        "    fp16=True,\n",
        "    report_to=\"none\",\n",
        "    push_to_hub=False\n",
        ")\n",
        "\n",
        "trainer = Trainer(\n",
        "    model=model,\n",
        "    args=train_args,\n",
        "    train_dataset=train_dataset,\n",
        "    eval_dataset=val_dataset,\n",
        "    data_collator=collate_fn,\n",
        "    compute_metrics=compute_metrics\n",
        ")\n",
        "\n",
        "train_results = trainer.train()\n"
      ]
    }
  ],
  "metadata": {
    "colab": {
      "machine_shape": "hm",
      "provenance": [],
      "authorship_tag": "ABX9TyPGPfYYkvk1UB6i+I7XZBTF",
      "include_colab_link": true
    },
    "kernelspec": {
      "display_name": "Python 3",
      "name": "python3"
    },
    "language_info": {
      "name": "python"
    },
    "widgets": {
      "application/vnd.jupyter.widget-state+json": {
        "0c2ce7acf128408abb61a1545e23973e": {
          "model_module": "@jupyter-widgets/base",
          "model_module_version": "1.2.0",
          "model_name": "LayoutModel",
          "state": {
            "_model_module": "@jupyter-widgets/base",
            "_model_module_version": "1.2.0",
            "_model_name": "LayoutModel",
            "_view_count": null,
            "_view_module": "@jupyter-widgets/base",
            "_view_module_version": "1.2.0",
            "_view_name": "LayoutView",
            "align_content": null,
            "align_items": null,
            "align_self": null,
            "border": null,
            "bottom": null,
            "display": null,
            "flex": null,
            "flex_flow": null,
            "grid_area": null,
            "grid_auto_columns": null,
            "grid_auto_flow": null,
            "grid_auto_rows": null,
            "grid_column": null,
            "grid_gap": null,
            "grid_row": null,
            "grid_template_areas": null,
            "grid_template_columns": null,
            "grid_template_rows": null,
            "height": null,
            "justify_content": null,
            "justify_items": null,
            "left": null,
            "margin": null,
            "max_height": null,
            "max_width": null,
            "min_height": null,
            "min_width": null,
            "object_fit": null,
            "object_position": null,
            "order": null,
            "overflow": null,
            "overflow_x": null,
            "overflow_y": null,
            "padding": null,
            "right": null,
            "top": null,
            "visibility": null,
            "width": null
          }
        },
        "0c65d83d8e4849fe8fcfb5e2967f69c0": {
          "model_module": "@jupyter-widgets/controls",
          "model_module_version": "1.5.0",
          "model_name": "FloatProgressModel",
          "state": {
            "_dom_classes": [],
            "_model_module": "@jupyter-widgets/controls",
            "_model_module_version": "1.5.0",
            "_model_name": "FloatProgressModel",
            "_view_count": null,
            "_view_module": "@jupyter-widgets/controls",
            "_view_module_version": "1.5.0",
            "_view_name": "ProgressView",
            "bar_style": "success",
            "description": "",
            "description_tooltip": null,
            "layout": "IPY_MODEL_bb506520dd8e480888d96d5dafedd481",
            "max": 1,
            "min": 0,
            "orientation": "horizontal",
            "style": "IPY_MODEL_9db534c14a6048cea448ef1c9f20cce4",
            "value": 1
          }
        },
        "0fea1a0c5baa4f54bdbb4df67473bb9b": {
          "model_module": "@jupyter-widgets/controls",
          "model_module_version": "1.5.0",
          "model_name": "DescriptionStyleModel",
          "state": {
            "_model_module": "@jupyter-widgets/controls",
            "_model_module_version": "1.5.0",
            "_model_name": "DescriptionStyleModel",
            "_view_count": null,
            "_view_module": "@jupyter-widgets/base",
            "_view_module_version": "1.2.0",
            "_view_name": "StyleView",
            "description_width": ""
          }
        },
        "12166bb4f5894f7ca89af21a5fc7eb56": {
          "model_module": "@jupyter-widgets/controls",
          "model_module_version": "1.5.0",
          "model_name": "HBoxModel",
          "state": {
            "_dom_classes": [],
            "_model_module": "@jupyter-widgets/controls",
            "_model_module_version": "1.5.0",
            "_model_name": "HBoxModel",
            "_view_count": null,
            "_view_module": "@jupyter-widgets/controls",
            "_view_module_version": "1.5.0",
            "_view_name": "HBoxView",
            "box_style": "",
            "children": [
              "IPY_MODEL_e6aae54b1ee3416382b2cb534de06dee",
              "IPY_MODEL_0c65d83d8e4849fe8fcfb5e2967f69c0",
              "IPY_MODEL_ecb8bb9315e1486bb3960991390ed5d4"
            ],
            "layout": "IPY_MODEL_26bd1d44441e4091afa40b538ef1c826"
          }
        },
        "152516d48ff4423eb934972d5ee43bd2": {
          "model_module": "@jupyter-widgets/controls",
          "model_module_version": "1.5.0",
          "model_name": "DescriptionStyleModel",
          "state": {
            "_model_module": "@jupyter-widgets/controls",
            "_model_module_version": "1.5.0",
            "_model_name": "DescriptionStyleModel",
            "_view_count": null,
            "_view_module": "@jupyter-widgets/base",
            "_view_module_version": "1.2.0",
            "_view_name": "StyleView",
            "description_width": ""
          }
        },
        "1d60cd8569c9400b95f4ef3008db4d96": {
          "model_module": "@jupyter-widgets/controls",
          "model_module_version": "1.5.0",
          "model_name": "DescriptionStyleModel",
          "state": {
            "_model_module": "@jupyter-widgets/controls",
            "_model_module_version": "1.5.0",
            "_model_name": "DescriptionStyleModel",
            "_view_count": null,
            "_view_module": "@jupyter-widgets/base",
            "_view_module_version": "1.2.0",
            "_view_name": "StyleView",
            "description_width": ""
          }
        },
        "25a547e13b074c7ca5d76b02b61529af": {
          "model_module": "@jupyter-widgets/controls",
          "model_module_version": "1.5.0",
          "model_name": "HBoxModel",
          "state": {
            "_dom_classes": [],
            "_model_module": "@jupyter-widgets/controls",
            "_model_module_version": "1.5.0",
            "_model_name": "HBoxModel",
            "_view_count": null,
            "_view_module": "@jupyter-widgets/controls",
            "_view_module_version": "1.5.0",
            "_view_name": "HBoxView",
            "box_style": "",
            "children": [
              "IPY_MODEL_5df77fb1744d4f4ea65385d0288508dc",
              "IPY_MODEL_3d1e3d5ed04d44d7967ba89911147f72",
              "IPY_MODEL_940a1b96371848a891231be910cc4bbe"
            ],
            "layout": "IPY_MODEL_4d66f7957467417fbf73e92bf72c51f5"
          }
        },
        "26bd1d44441e4091afa40b538ef1c826": {
          "model_module": "@jupyter-widgets/base",
          "model_module_version": "1.2.0",
          "model_name": "LayoutModel",
          "state": {
            "_model_module": "@jupyter-widgets/base",
            "_model_module_version": "1.2.0",
            "_model_name": "LayoutModel",
            "_view_count": null,
            "_view_module": "@jupyter-widgets/base",
            "_view_module_version": "1.2.0",
            "_view_name": "LayoutView",
            "align_content": null,
            "align_items": null,
            "align_self": null,
            "border": null,
            "bottom": null,
            "display": null,
            "flex": null,
            "flex_flow": null,
            "grid_area": null,
            "grid_auto_columns": null,
            "grid_auto_flow": null,
            "grid_auto_rows": null,
            "grid_column": null,
            "grid_gap": null,
            "grid_row": null,
            "grid_template_areas": null,
            "grid_template_columns": null,
            "grid_template_rows": null,
            "height": null,
            "justify_content": null,
            "justify_items": null,
            "left": null,
            "margin": null,
            "max_height": null,
            "max_width": null,
            "min_height": null,
            "min_width": null,
            "object_fit": null,
            "object_position": null,
            "order": null,
            "overflow": null,
            "overflow_x": null,
            "overflow_y": null,
            "padding": null,
            "right": null,
            "top": null,
            "visibility": null,
            "width": null
          }
        },
        "3197fdc2bf5c45859bdd8e846ea4e57f": {
          "model_module": "@jupyter-widgets/base",
          "model_module_version": "1.2.0",
          "model_name": "LayoutModel",
          "state": {
            "_model_module": "@jupyter-widgets/base",
            "_model_module_version": "1.2.0",
            "_model_name": "LayoutModel",
            "_view_count": null,
            "_view_module": "@jupyter-widgets/base",
            "_view_module_version": "1.2.0",
            "_view_name": "LayoutView",
            "align_content": null,
            "align_items": null,
            "align_self": null,
            "border": null,
            "bottom": null,
            "display": null,
            "flex": null,
            "flex_flow": null,
            "grid_area": null,
            "grid_auto_columns": null,
            "grid_auto_flow": null,
            "grid_auto_rows": null,
            "grid_column": null,
            "grid_gap": null,
            "grid_row": null,
            "grid_template_areas": null,
            "grid_template_columns": null,
            "grid_template_rows": null,
            "height": null,
            "justify_content": null,
            "justify_items": null,
            "left": null,
            "margin": null,
            "max_height": null,
            "max_width": null,
            "min_height": null,
            "min_width": null,
            "object_fit": null,
            "object_position": null,
            "order": null,
            "overflow": null,
            "overflow_x": null,
            "overflow_y": null,
            "padding": null,
            "right": null,
            "top": null,
            "visibility": null,
            "width": null
          }
        },
        "37936d6cf34e494d8b94c3b546bcd0ae": {
          "model_module": "@jupyter-widgets/base",
          "model_module_version": "1.2.0",
          "model_name": "LayoutModel",
          "state": {
            "_model_module": "@jupyter-widgets/base",
            "_model_module_version": "1.2.0",
            "_model_name": "LayoutModel",
            "_view_count": null,
            "_view_module": "@jupyter-widgets/base",
            "_view_module_version": "1.2.0",
            "_view_name": "LayoutView",
            "align_content": null,
            "align_items": null,
            "align_self": null,
            "border": null,
            "bottom": null,
            "display": null,
            "flex": null,
            "flex_flow": null,
            "grid_area": null,
            "grid_auto_columns": null,
            "grid_auto_flow": null,
            "grid_auto_rows": null,
            "grid_column": null,
            "grid_gap": null,
            "grid_row": null,
            "grid_template_areas": null,
            "grid_template_columns": null,
            "grid_template_rows": null,
            "height": null,
            "justify_content": null,
            "justify_items": null,
            "left": null,
            "margin": null,
            "max_height": null,
            "max_width": null,
            "min_height": null,
            "min_width": null,
            "object_fit": null,
            "object_position": null,
            "order": null,
            "overflow": null,
            "overflow_x": null,
            "overflow_y": null,
            "padding": null,
            "right": null,
            "top": null,
            "visibility": null,
            "width": null
          }
        },
        "3d1e3d5ed04d44d7967ba89911147f72": {
          "model_module": "@jupyter-widgets/controls",
          "model_module_version": "1.5.0",
          "model_name": "FloatProgressModel",
          "state": {
            "_dom_classes": [],
            "_model_module": "@jupyter-widgets/controls",
            "_model_module_version": "1.5.0",
            "_model_name": "FloatProgressModel",
            "_view_count": null,
            "_view_module": "@jupyter-widgets/controls",
            "_view_module_version": "1.5.0",
            "_view_name": "ProgressView",
            "bar_style": "success",
            "description": "",
            "description_tooltip": null,
            "layout": "IPY_MODEL_c5fbbc10275b48789f7a8d7cb325a340",
            "max": 271,
            "min": 0,
            "orientation": "horizontal",
            "style": "IPY_MODEL_bccabf8c44464a398abf42c406d3c3f8",
            "value": 271
          }
        },
        "4d66f7957467417fbf73e92bf72c51f5": {
          "model_module": "@jupyter-widgets/base",
          "model_module_version": "1.2.0",
          "model_name": "LayoutModel",
          "state": {
            "_model_module": "@jupyter-widgets/base",
            "_model_module_version": "1.2.0",
            "_model_name": "LayoutModel",
            "_view_count": null,
            "_view_module": "@jupyter-widgets/base",
            "_view_module_version": "1.2.0",
            "_view_name": "LayoutView",
            "align_content": null,
            "align_items": null,
            "align_self": null,
            "border": null,
            "bottom": null,
            "display": null,
            "flex": null,
            "flex_flow": null,
            "grid_area": null,
            "grid_auto_columns": null,
            "grid_auto_flow": null,
            "grid_auto_rows": null,
            "grid_column": null,
            "grid_gap": null,
            "grid_row": null,
            "grid_template_areas": null,
            "grid_template_columns": null,
            "grid_template_rows": null,
            "height": null,
            "justify_content": null,
            "justify_items": null,
            "left": null,
            "margin": null,
            "max_height": null,
            "max_width": null,
            "min_height": null,
            "min_width": null,
            "object_fit": null,
            "object_position": null,
            "order": null,
            "overflow": null,
            "overflow_x": null,
            "overflow_y": null,
            "padding": null,
            "right": null,
            "top": null,
            "visibility": null,
            "width": null
          }
        },
        "504dd697cd4246549e9dd3b46ae3ec20": {
          "model_module": "@jupyter-widgets/controls",
          "model_module_version": "1.5.0",
          "model_name": "HBoxModel",
          "state": {
            "_dom_classes": [],
            "_model_module": "@jupyter-widgets/controls",
            "_model_module_version": "1.5.0",
            "_model_name": "HBoxModel",
            "_view_count": null,
            "_view_module": "@jupyter-widgets/controls",
            "_view_module_version": "1.5.0",
            "_view_name": "HBoxView",
            "box_style": "",
            "children": [
              "IPY_MODEL_a8214f33c7ad49e09a7a0af399109488",
              "IPY_MODEL_5b8b3ef7ae4d4eceb196c31059fc6272",
              "IPY_MODEL_84f4227c4968400e8641567539d5a5ab"
            ],
            "layout": "IPY_MODEL_93d9883c09ea4c8297a31568a846a331"
          }
        },
        "5b8b3ef7ae4d4eceb196c31059fc6272": {
          "model_module": "@jupyter-widgets/controls",
          "model_module_version": "1.5.0",
          "model_name": "FloatProgressModel",
          "state": {
            "_dom_classes": [],
            "_model_module": "@jupyter-widgets/controls",
            "_model_module_version": "1.5.0",
            "_model_name": "FloatProgressModel",
            "_view_count": null,
            "_view_module": "@jupyter-widgets/controls",
            "_view_module_version": "1.5.0",
            "_view_name": "ProgressView",
            "bar_style": "success",
            "description": "",
            "description_tooltip": null,
            "layout": "IPY_MODEL_b1bad2cf8af54279ae2792c269fe068a",
            "max": 725,
            "min": 0,
            "orientation": "horizontal",
            "style": "IPY_MODEL_c5cbcab0581d402ca7140d24112ccebd",
            "value": 725
          }
        },
        "5df77fb1744d4f4ea65385d0288508dc": {
          "model_module": "@jupyter-widgets/controls",
          "model_module_version": "1.5.0",
          "model_name": "HTMLModel",
          "state": {
            "_dom_classes": [],
            "_model_module": "@jupyter-widgets/controls",
            "_model_module_version": "1.5.0",
            "_model_name": "HTMLModel",
            "_view_count": null,
            "_view_module": "@jupyter-widgets/controls",
            "_view_module_version": "1.5.0",
            "_view_name": "HTMLView",
            "description": "",
            "description_tooltip": null,
            "layout": "IPY_MODEL_96fb4674f8f44185b8ba34a6ad466560",
            "placeholder": "​",
            "style": "IPY_MODEL_ef38e1deb5b24f96b8f8af79859a17f9",
            "value": "preprocessor_config.json: 100%"
          }
        },
        "5ef36e0ed9134b498c654dc9a32a27c2": {
          "model_module": "@jupyter-widgets/base",
          "model_module_version": "1.2.0",
          "model_name": "LayoutModel",
          "state": {
            "_model_module": "@jupyter-widgets/base",
            "_model_module_version": "1.2.0",
            "_model_name": "LayoutModel",
            "_view_count": null,
            "_view_module": "@jupyter-widgets/base",
            "_view_module_version": "1.2.0",
            "_view_name": "LayoutView",
            "align_content": null,
            "align_items": null,
            "align_self": null,
            "border": null,
            "bottom": null,
            "display": null,
            "flex": null,
            "flex_flow": null,
            "grid_area": null,
            "grid_auto_columns": null,
            "grid_auto_flow": null,
            "grid_auto_rows": null,
            "grid_column": null,
            "grid_gap": null,
            "grid_row": null,
            "grid_template_areas": null,
            "grid_template_columns": null,
            "grid_template_rows": null,
            "height": null,
            "justify_content": null,
            "justify_items": null,
            "left": null,
            "margin": null,
            "max_height": null,
            "max_width": null,
            "min_height": null,
            "min_width": null,
            "object_fit": null,
            "object_position": null,
            "order": null,
            "overflow": null,
            "overflow_x": null,
            "overflow_y": null,
            "padding": null,
            "right": null,
            "top": null,
            "visibility": null,
            "width": null
          }
        },
        "6ffa1aa41f71442ebe5a5fa66cb6d5dc": {
          "model_module": "@jupyter-widgets/controls",
          "model_module_version": "1.5.0",
          "model_name": "DescriptionStyleModel",
          "state": {
            "_model_module": "@jupyter-widgets/controls",
            "_model_module_version": "1.5.0",
            "_model_name": "DescriptionStyleModel",
            "_view_count": null,
            "_view_module": "@jupyter-widgets/base",
            "_view_module_version": "1.2.0",
            "_view_name": "StyleView",
            "description_width": ""
          }
        },
        "75b1141e3978405b9dbf8f459c7f8a3d": {
          "model_module": "@jupyter-widgets/controls",
          "model_module_version": "1.5.0",
          "model_name": "HTMLModel",
          "state": {
            "_dom_classes": [],
            "_model_module": "@jupyter-widgets/controls",
            "_model_module_version": "1.5.0",
            "_model_name": "HTMLModel",
            "_view_count": null,
            "_view_module": "@jupyter-widgets/controls",
            "_view_module_version": "1.5.0",
            "_view_name": "HTMLView",
            "description": "",
            "description_tooltip": null,
            "layout": "IPY_MODEL_b023e68967384f6180cfa21d09b0ec92",
            "placeholder": "​",
            "style": "IPY_MODEL_f89eeae165fc4e7db7fb471b9d706446",
            "value": "model.safetensors: 100%"
          }
        },
        "7a5523a4a5154778a8a0f2fe42057e3c": {
          "model_module": "@jupyter-widgets/controls",
          "model_module_version": "1.5.0",
          "model_name": "HTMLModel",
          "state": {
            "_dom_classes": [],
            "_model_module": "@jupyter-widgets/controls",
            "_model_module_version": "1.5.0",
            "_model_name": "HTMLModel",
            "_view_count": null,
            "_view_module": "@jupyter-widgets/controls",
            "_view_module_version": "1.5.0",
            "_view_name": "HTMLView",
            "description": "",
            "description_tooltip": null,
            "layout": "IPY_MODEL_37936d6cf34e494d8b94c3b546bcd0ae",
            "placeholder": "​",
            "style": "IPY_MODEL_1d60cd8569c9400b95f4ef3008db4d96",
            "value": " 377M/377M [00:03&lt;00:00, 165MB/s]"
          }
        },
        "83ecdb159b6242ada55339e5d4633612": {
          "model_module": "@jupyter-widgets/controls",
          "model_module_version": "1.5.0",
          "model_name": "HBoxModel",
          "state": {
            "_dom_classes": [],
            "_model_module": "@jupyter-widgets/controls",
            "_model_module_version": "1.5.0",
            "_model_name": "HBoxModel",
            "_view_count": null,
            "_view_module": "@jupyter-widgets/controls",
            "_view_module_version": "1.5.0",
            "_view_name": "HBoxView",
            "box_style": "",
            "children": [
              "IPY_MODEL_75b1141e3978405b9dbf8f459c7f8a3d",
              "IPY_MODEL_d4e101bbd9cd41f7be9256b0524e3e68",
              "IPY_MODEL_7a5523a4a5154778a8a0f2fe42057e3c"
            ],
            "layout": "IPY_MODEL_a5f4b5545d8446bd9d035778f021b363"
          }
        },
        "84f4227c4968400e8641567539d5a5ab": {
          "model_module": "@jupyter-widgets/controls",
          "model_module_version": "1.5.0",
          "model_name": "HTMLModel",
          "state": {
            "_dom_classes": [],
            "_model_module": "@jupyter-widgets/controls",
            "_model_module_version": "1.5.0",
            "_model_name": "HTMLModel",
            "_view_count": null,
            "_view_module": "@jupyter-widgets/controls",
            "_view_module_version": "1.5.0",
            "_view_name": "HTMLView",
            "description": "",
            "description_tooltip": null,
            "layout": "IPY_MODEL_e4df3127860f4fcd9e596459afdf7a8a",
            "placeholder": "​",
            "style": "IPY_MODEL_9094b7228a3f462baa1894e9a85a1da2",
            "value": " 725/725 [00:00&lt;00:00, 90.1kB/s]"
          }
        },
        "9094b7228a3f462baa1894e9a85a1da2": {
          "model_module": "@jupyter-widgets/controls",
          "model_module_version": "1.5.0",
          "model_name": "DescriptionStyleModel",
          "state": {
            "_model_module": "@jupyter-widgets/controls",
            "_model_module_version": "1.5.0",
            "_model_name": "DescriptionStyleModel",
            "_view_count": null,
            "_view_module": "@jupyter-widgets/base",
            "_view_module_version": "1.2.0",
            "_view_name": "StyleView",
            "description_width": ""
          }
        },
        "93d9883c09ea4c8297a31568a846a331": {
          "model_module": "@jupyter-widgets/base",
          "model_module_version": "1.2.0",
          "model_name": "LayoutModel",
          "state": {
            "_model_module": "@jupyter-widgets/base",
            "_model_module_version": "1.2.0",
            "_model_name": "LayoutModel",
            "_view_count": null,
            "_view_module": "@jupyter-widgets/base",
            "_view_module_version": "1.2.0",
            "_view_name": "LayoutView",
            "align_content": null,
            "align_items": null,
            "align_self": null,
            "border": null,
            "bottom": null,
            "display": null,
            "flex": null,
            "flex_flow": null,
            "grid_area": null,
            "grid_auto_columns": null,
            "grid_auto_flow": null,
            "grid_auto_rows": null,
            "grid_column": null,
            "grid_gap": null,
            "grid_row": null,
            "grid_template_areas": null,
            "grid_template_columns": null,
            "grid_template_rows": null,
            "height": null,
            "justify_content": null,
            "justify_items": null,
            "left": null,
            "margin": null,
            "max_height": null,
            "max_width": null,
            "min_height": null,
            "min_width": null,
            "object_fit": null,
            "object_position": null,
            "order": null,
            "overflow": null,
            "overflow_x": null,
            "overflow_y": null,
            "padding": null,
            "right": null,
            "top": null,
            "visibility": null,
            "width": null
          }
        },
        "940a1b96371848a891231be910cc4bbe": {
          "model_module": "@jupyter-widgets/controls",
          "model_module_version": "1.5.0",
          "model_name": "HTMLModel",
          "state": {
            "_dom_classes": [],
            "_model_module": "@jupyter-widgets/controls",
            "_model_module_version": "1.5.0",
            "_model_name": "HTMLModel",
            "_view_count": null,
            "_view_module": "@jupyter-widgets/controls",
            "_view_module_version": "1.5.0",
            "_view_name": "HTMLView",
            "description": "",
            "description_tooltip": null,
            "layout": "IPY_MODEL_c98b920ed2ed4a4db84f68c59d0351c3",
            "placeholder": "​",
            "style": "IPY_MODEL_6ffa1aa41f71442ebe5a5fa66cb6d5dc",
            "value": " 271/271 [00:00&lt;00:00, 38.7kB/s]"
          }
        },
        "96fb4674f8f44185b8ba34a6ad466560": {
          "model_module": "@jupyter-widgets/base",
          "model_module_version": "1.2.0",
          "model_name": "LayoutModel",
          "state": {
            "_model_module": "@jupyter-widgets/base",
            "_model_module_version": "1.2.0",
            "_model_name": "LayoutModel",
            "_view_count": null,
            "_view_module": "@jupyter-widgets/base",
            "_view_module_version": "1.2.0",
            "_view_name": "LayoutView",
            "align_content": null,
            "align_items": null,
            "align_self": null,
            "border": null,
            "bottom": null,
            "display": null,
            "flex": null,
            "flex_flow": null,
            "grid_area": null,
            "grid_auto_columns": null,
            "grid_auto_flow": null,
            "grid_auto_rows": null,
            "grid_column": null,
            "grid_gap": null,
            "grid_row": null,
            "grid_template_areas": null,
            "grid_template_columns": null,
            "grid_template_rows": null,
            "height": null,
            "justify_content": null,
            "justify_items": null,
            "left": null,
            "margin": null,
            "max_height": null,
            "max_width": null,
            "min_height": null,
            "min_width": null,
            "object_fit": null,
            "object_position": null,
            "order": null,
            "overflow": null,
            "overflow_x": null,
            "overflow_y": null,
            "padding": null,
            "right": null,
            "top": null,
            "visibility": null,
            "width": null
          }
        },
        "9db534c14a6048cea448ef1c9f20cce4": {
          "model_module": "@jupyter-widgets/controls",
          "model_module_version": "1.5.0",
          "model_name": "ProgressStyleModel",
          "state": {
            "_model_module": "@jupyter-widgets/controls",
            "_model_module_version": "1.5.0",
            "_model_name": "ProgressStyleModel",
            "_view_count": null,
            "_view_module": "@jupyter-widgets/base",
            "_view_module_version": "1.2.0",
            "_view_name": "StyleView",
            "bar_color": null,
            "description_width": ""
          }
        },
        "a34a2dca71e249caacc36e0d9b37469f": {
          "model_module": "@jupyter-widgets/base",
          "model_module_version": "1.2.0",
          "model_name": "LayoutModel",
          "state": {
            "_model_module": "@jupyter-widgets/base",
            "_model_module_version": "1.2.0",
            "_model_name": "LayoutModel",
            "_view_count": null,
            "_view_module": "@jupyter-widgets/base",
            "_view_module_version": "1.2.0",
            "_view_name": "LayoutView",
            "align_content": null,
            "align_items": null,
            "align_self": null,
            "border": null,
            "bottom": null,
            "display": null,
            "flex": null,
            "flex_flow": null,
            "grid_area": null,
            "grid_auto_columns": null,
            "grid_auto_flow": null,
            "grid_auto_rows": null,
            "grid_column": null,
            "grid_gap": null,
            "grid_row": null,
            "grid_template_areas": null,
            "grid_template_columns": null,
            "grid_template_rows": null,
            "height": null,
            "justify_content": null,
            "justify_items": null,
            "left": null,
            "margin": null,
            "max_height": null,
            "max_width": null,
            "min_height": null,
            "min_width": null,
            "object_fit": null,
            "object_position": null,
            "order": null,
            "overflow": null,
            "overflow_x": null,
            "overflow_y": null,
            "padding": null,
            "right": null,
            "top": null,
            "visibility": null,
            "width": null
          }
        },
        "a5f4b5545d8446bd9d035778f021b363": {
          "model_module": "@jupyter-widgets/base",
          "model_module_version": "1.2.0",
          "model_name": "LayoutModel",
          "state": {
            "_model_module": "@jupyter-widgets/base",
            "_model_module_version": "1.2.0",
            "_model_name": "LayoutModel",
            "_view_count": null,
            "_view_module": "@jupyter-widgets/base",
            "_view_module_version": "1.2.0",
            "_view_name": "LayoutView",
            "align_content": null,
            "align_items": null,
            "align_self": null,
            "border": null,
            "bottom": null,
            "display": null,
            "flex": null,
            "flex_flow": null,
            "grid_area": null,
            "grid_auto_columns": null,
            "grid_auto_flow": null,
            "grid_auto_rows": null,
            "grid_column": null,
            "grid_gap": null,
            "grid_row": null,
            "grid_template_areas": null,
            "grid_template_columns": null,
            "grid_template_rows": null,
            "height": null,
            "justify_content": null,
            "justify_items": null,
            "left": null,
            "margin": null,
            "max_height": null,
            "max_width": null,
            "min_height": null,
            "min_width": null,
            "object_fit": null,
            "object_position": null,
            "order": null,
            "overflow": null,
            "overflow_x": null,
            "overflow_y": null,
            "padding": null,
            "right": null,
            "top": null,
            "visibility": null,
            "width": null
          }
        },
        "a8214f33c7ad49e09a7a0af399109488": {
          "model_module": "@jupyter-widgets/controls",
          "model_module_version": "1.5.0",
          "model_name": "HTMLModel",
          "state": {
            "_dom_classes": [],
            "_model_module": "@jupyter-widgets/controls",
            "_model_module_version": "1.5.0",
            "_model_name": "HTMLModel",
            "_view_count": null,
            "_view_module": "@jupyter-widgets/controls",
            "_view_module_version": "1.5.0",
            "_view_name": "HTMLView",
            "description": "",
            "description_tooltip": null,
            "layout": "IPY_MODEL_a34a2dca71e249caacc36e0d9b37469f",
            "placeholder": "​",
            "style": "IPY_MODEL_cb6fa3946aa64e19af89b53e5d2e7105",
            "value": "config.json: 100%"
          }
        },
        "b023e68967384f6180cfa21d09b0ec92": {
          "model_module": "@jupyter-widgets/base",
          "model_module_version": "1.2.0",
          "model_name": "LayoutModel",
          "state": {
            "_model_module": "@jupyter-widgets/base",
            "_model_module_version": "1.2.0",
            "_model_name": "LayoutModel",
            "_view_count": null,
            "_view_module": "@jupyter-widgets/base",
            "_view_module_version": "1.2.0",
            "_view_name": "LayoutView",
            "align_content": null,
            "align_items": null,
            "align_self": null,
            "border": null,
            "bottom": null,
            "display": null,
            "flex": null,
            "flex_flow": null,
            "grid_area": null,
            "grid_auto_columns": null,
            "grid_auto_flow": null,
            "grid_auto_rows": null,
            "grid_column": null,
            "grid_gap": null,
            "grid_row": null,
            "grid_template_areas": null,
            "grid_template_columns": null,
            "grid_template_rows": null,
            "height": null,
            "justify_content": null,
            "justify_items": null,
            "left": null,
            "margin": null,
            "max_height": null,
            "max_width": null,
            "min_height": null,
            "min_width": null,
            "object_fit": null,
            "object_position": null,
            "order": null,
            "overflow": null,
            "overflow_x": null,
            "overflow_y": null,
            "padding": null,
            "right": null,
            "top": null,
            "visibility": null,
            "width": null
          }
        },
        "b1bad2cf8af54279ae2792c269fe068a": {
          "model_module": "@jupyter-widgets/base",
          "model_module_version": "1.2.0",
          "model_name": "LayoutModel",
          "state": {
            "_model_module": "@jupyter-widgets/base",
            "_model_module_version": "1.2.0",
            "_model_name": "LayoutModel",
            "_view_count": null,
            "_view_module": "@jupyter-widgets/base",
            "_view_module_version": "1.2.0",
            "_view_name": "LayoutView",
            "align_content": null,
            "align_items": null,
            "align_self": null,
            "border": null,
            "bottom": null,
            "display": null,
            "flex": null,
            "flex_flow": null,
            "grid_area": null,
            "grid_auto_columns": null,
            "grid_auto_flow": null,
            "grid_auto_rows": null,
            "grid_column": null,
            "grid_gap": null,
            "grid_row": null,
            "grid_template_areas": null,
            "grid_template_columns": null,
            "grid_template_rows": null,
            "height": null,
            "justify_content": null,
            "justify_items": null,
            "left": null,
            "margin": null,
            "max_height": null,
            "max_width": null,
            "min_height": null,
            "min_width": null,
            "object_fit": null,
            "object_position": null,
            "order": null,
            "overflow": null,
            "overflow_x": null,
            "overflow_y": null,
            "padding": null,
            "right": null,
            "top": null,
            "visibility": null,
            "width": null
          }
        },
        "bb506520dd8e480888d96d5dafedd481": {
          "model_module": "@jupyter-widgets/base",
          "model_module_version": "1.2.0",
          "model_name": "LayoutModel",
          "state": {
            "_model_module": "@jupyter-widgets/base",
            "_model_module_version": "1.2.0",
            "_model_name": "LayoutModel",
            "_view_count": null,
            "_view_module": "@jupyter-widgets/base",
            "_view_module_version": "1.2.0",
            "_view_name": "LayoutView",
            "align_content": null,
            "align_items": null,
            "align_self": null,
            "border": null,
            "bottom": null,
            "display": null,
            "flex": null,
            "flex_flow": null,
            "grid_area": null,
            "grid_auto_columns": null,
            "grid_auto_flow": null,
            "grid_auto_rows": null,
            "grid_column": null,
            "grid_gap": null,
            "grid_row": null,
            "grid_template_areas": null,
            "grid_template_columns": null,
            "grid_template_rows": null,
            "height": null,
            "justify_content": null,
            "justify_items": null,
            "left": null,
            "margin": null,
            "max_height": null,
            "max_width": null,
            "min_height": null,
            "min_width": null,
            "object_fit": null,
            "object_position": null,
            "order": null,
            "overflow": null,
            "overflow_x": null,
            "overflow_y": null,
            "padding": null,
            "right": null,
            "top": null,
            "visibility": null,
            "width": null
          }
        },
        "bccabf8c44464a398abf42c406d3c3f8": {
          "model_module": "@jupyter-widgets/controls",
          "model_module_version": "1.5.0",
          "model_name": "ProgressStyleModel",
          "state": {
            "_model_module": "@jupyter-widgets/controls",
            "_model_module_version": "1.5.0",
            "_model_name": "ProgressStyleModel",
            "_view_count": null,
            "_view_module": "@jupyter-widgets/base",
            "_view_module_version": "1.2.0",
            "_view_name": "StyleView",
            "bar_color": null,
            "description_width": ""
          }
        },
        "c5cbcab0581d402ca7140d24112ccebd": {
          "model_module": "@jupyter-widgets/controls",
          "model_module_version": "1.5.0",
          "model_name": "ProgressStyleModel",
          "state": {
            "_model_module": "@jupyter-widgets/controls",
            "_model_module_version": "1.5.0",
            "_model_name": "ProgressStyleModel",
            "_view_count": null,
            "_view_module": "@jupyter-widgets/base",
            "_view_module_version": "1.2.0",
            "_view_name": "StyleView",
            "bar_color": null,
            "description_width": ""
          }
        },
        "c5fbbc10275b48789f7a8d7cb325a340": {
          "model_module": "@jupyter-widgets/base",
          "model_module_version": "1.2.0",
          "model_name": "LayoutModel",
          "state": {
            "_model_module": "@jupyter-widgets/base",
            "_model_module_version": "1.2.0",
            "_model_name": "LayoutModel",
            "_view_count": null,
            "_view_module": "@jupyter-widgets/base",
            "_view_module_version": "1.2.0",
            "_view_name": "LayoutView",
            "align_content": null,
            "align_items": null,
            "align_self": null,
            "border": null,
            "bottom": null,
            "display": null,
            "flex": null,
            "flex_flow": null,
            "grid_area": null,
            "grid_auto_columns": null,
            "grid_auto_flow": null,
            "grid_auto_rows": null,
            "grid_column": null,
            "grid_gap": null,
            "grid_row": null,
            "grid_template_areas": null,
            "grid_template_columns": null,
            "grid_template_rows": null,
            "height": null,
            "justify_content": null,
            "justify_items": null,
            "left": null,
            "margin": null,
            "max_height": null,
            "max_width": null,
            "min_height": null,
            "min_width": null,
            "object_fit": null,
            "object_position": null,
            "order": null,
            "overflow": null,
            "overflow_x": null,
            "overflow_y": null,
            "padding": null,
            "right": null,
            "top": null,
            "visibility": null,
            "width": null
          }
        },
        "c98b920ed2ed4a4db84f68c59d0351c3": {
          "model_module": "@jupyter-widgets/base",
          "model_module_version": "1.2.0",
          "model_name": "LayoutModel",
          "state": {
            "_model_module": "@jupyter-widgets/base",
            "_model_module_version": "1.2.0",
            "_model_name": "LayoutModel",
            "_view_count": null,
            "_view_module": "@jupyter-widgets/base",
            "_view_module_version": "1.2.0",
            "_view_name": "LayoutView",
            "align_content": null,
            "align_items": null,
            "align_self": null,
            "border": null,
            "bottom": null,
            "display": null,
            "flex": null,
            "flex_flow": null,
            "grid_area": null,
            "grid_auto_columns": null,
            "grid_auto_flow": null,
            "grid_auto_rows": null,
            "grid_column": null,
            "grid_gap": null,
            "grid_row": null,
            "grid_template_areas": null,
            "grid_template_columns": null,
            "grid_template_rows": null,
            "height": null,
            "justify_content": null,
            "justify_items": null,
            "left": null,
            "margin": null,
            "max_height": null,
            "max_width": null,
            "min_height": null,
            "min_width": null,
            "object_fit": null,
            "object_position": null,
            "order": null,
            "overflow": null,
            "overflow_x": null,
            "overflow_y": null,
            "padding": null,
            "right": null,
            "top": null,
            "visibility": null,
            "width": null
          }
        },
        "cb6fa3946aa64e19af89b53e5d2e7105": {
          "model_module": "@jupyter-widgets/controls",
          "model_module_version": "1.5.0",
          "model_name": "DescriptionStyleModel",
          "state": {
            "_model_module": "@jupyter-widgets/controls",
            "_model_module_version": "1.5.0",
            "_model_name": "DescriptionStyleModel",
            "_view_count": null,
            "_view_module": "@jupyter-widgets/base",
            "_view_module_version": "1.2.0",
            "_view_name": "StyleView",
            "description_width": ""
          }
        },
        "d4e101bbd9cd41f7be9256b0524e3e68": {
          "model_module": "@jupyter-widgets/controls",
          "model_module_version": "1.5.0",
          "model_name": "FloatProgressModel",
          "state": {
            "_dom_classes": [],
            "_model_module": "@jupyter-widgets/controls",
            "_model_module_version": "1.5.0",
            "_model_name": "FloatProgressModel",
            "_view_count": null,
            "_view_module": "@jupyter-widgets/controls",
            "_view_module_version": "1.5.0",
            "_view_name": "ProgressView",
            "bar_style": "success",
            "description": "",
            "description_tooltip": null,
            "layout": "IPY_MODEL_5ef36e0ed9134b498c654dc9a32a27c2",
            "max": 376873760,
            "min": 0,
            "orientation": "horizontal",
            "style": "IPY_MODEL_e2569e14cbfd4c35a12bcd3334533f06",
            "value": 376873760
          }
        },
        "e2569e14cbfd4c35a12bcd3334533f06": {
          "model_module": "@jupyter-widgets/controls",
          "model_module_version": "1.5.0",
          "model_name": "ProgressStyleModel",
          "state": {
            "_model_module": "@jupyter-widgets/controls",
            "_model_module_version": "1.5.0",
            "_model_name": "ProgressStyleModel",
            "_view_count": null,
            "_view_module": "@jupyter-widgets/base",
            "_view_module_version": "1.2.0",
            "_view_name": "StyleView",
            "bar_color": null,
            "description_width": ""
          }
        },
        "e4df3127860f4fcd9e596459afdf7a8a": {
          "model_module": "@jupyter-widgets/base",
          "model_module_version": "1.2.0",
          "model_name": "LayoutModel",
          "state": {
            "_model_module": "@jupyter-widgets/base",
            "_model_module_version": "1.2.0",
            "_model_name": "LayoutModel",
            "_view_count": null,
            "_view_module": "@jupyter-widgets/base",
            "_view_module_version": "1.2.0",
            "_view_name": "LayoutView",
            "align_content": null,
            "align_items": null,
            "align_self": null,
            "border": null,
            "bottom": null,
            "display": null,
            "flex": null,
            "flex_flow": null,
            "grid_area": null,
            "grid_auto_columns": null,
            "grid_auto_flow": null,
            "grid_auto_rows": null,
            "grid_column": null,
            "grid_gap": null,
            "grid_row": null,
            "grid_template_areas": null,
            "grid_template_columns": null,
            "grid_template_rows": null,
            "height": null,
            "justify_content": null,
            "justify_items": null,
            "left": null,
            "margin": null,
            "max_height": null,
            "max_width": null,
            "min_height": null,
            "min_width": null,
            "object_fit": null,
            "object_position": null,
            "order": null,
            "overflow": null,
            "overflow_x": null,
            "overflow_y": null,
            "padding": null,
            "right": null,
            "top": null,
            "visibility": null,
            "width": null
          }
        },
        "e6aae54b1ee3416382b2cb534de06dee": {
          "model_module": "@jupyter-widgets/controls",
          "model_module_version": "1.5.0",
          "model_name": "HTMLModel",
          "state": {
            "_dom_classes": [],
            "_model_module": "@jupyter-widgets/controls",
            "_model_module_version": "1.5.0",
            "_model_name": "HTMLModel",
            "_view_count": null,
            "_view_module": "@jupyter-widgets/controls",
            "_view_module_version": "1.5.0",
            "_view_name": "HTMLView",
            "description": "",
            "description_tooltip": null,
            "layout": "IPY_MODEL_3197fdc2bf5c45859bdd8e846ea4e57f",
            "placeholder": "​",
            "style": "IPY_MODEL_0fea1a0c5baa4f54bdbb4df67473bb9b",
            "value": "Fetching 1 files: 100%"
          }
        },
        "ecb8bb9315e1486bb3960991390ed5d4": {
          "model_module": "@jupyter-widgets/controls",
          "model_module_version": "1.5.0",
          "model_name": "HTMLModel",
          "state": {
            "_dom_classes": [],
            "_model_module": "@jupyter-widgets/controls",
            "_model_module_version": "1.5.0",
            "_model_name": "HTMLModel",
            "_view_count": null,
            "_view_module": "@jupyter-widgets/controls",
            "_view_module_version": "1.5.0",
            "_view_name": "HTMLView",
            "description": "",
            "description_tooltip": null,
            "layout": "IPY_MODEL_0c2ce7acf128408abb61a1545e23973e",
            "placeholder": "​",
            "style": "IPY_MODEL_152516d48ff4423eb934972d5ee43bd2",
            "value": " 1/1 [00:00&lt;00:00,  2.22it/s]"
          }
        },
        "ef38e1deb5b24f96b8f8af79859a17f9": {
          "model_module": "@jupyter-widgets/controls",
          "model_module_version": "1.5.0",
          "model_name": "DescriptionStyleModel",
          "state": {
            "_model_module": "@jupyter-widgets/controls",
            "_model_module_version": "1.5.0",
            "_model_name": "DescriptionStyleModel",
            "_view_count": null,
            "_view_module": "@jupyter-widgets/base",
            "_view_module_version": "1.2.0",
            "_view_name": "StyleView",
            "description_width": ""
          }
        },
        "f89eeae165fc4e7db7fb471b9d706446": {
          "model_module": "@jupyter-widgets/controls",
          "model_module_version": "1.5.0",
          "model_name": "DescriptionStyleModel",
          "state": {
            "_model_module": "@jupyter-widgets/controls",
            "_model_module_version": "1.5.0",
            "_model_name": "DescriptionStyleModel",
            "_view_count": null,
            "_view_module": "@jupyter-widgets/base",
            "_view_module_version": "1.2.0",
            "_view_name": "StyleView",
            "description_width": ""
          }
        }
      }
    }
  },
  "nbformat": 4,
  "nbformat_minor": 0
}